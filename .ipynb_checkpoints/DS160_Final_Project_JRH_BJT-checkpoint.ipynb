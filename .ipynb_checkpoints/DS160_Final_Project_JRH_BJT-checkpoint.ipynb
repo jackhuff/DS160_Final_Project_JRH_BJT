{
 "cells": [
  {
   "cell_type": "markdown",
   "id": "bfdf24e7-5719-4b8a-a93a-40aa6f9dc0bf",
   "metadata": {},
   "source": [
    "# DS160_Final_Project_JRH_BJT\n",
    "\n",
    "# File Name: DS160_Final_Project_JRH_BJT\n",
    "## Author: Brett Tully & Jack Huff\n",
    "### Python 3 \n",
    "#### Class: DS-160-01\n",
    "##### Semester: Spring '22"
   ]
  },
  {
   "cell_type": "markdown",
   "id": "e333b559-8b3a-4261-85a2-ad749eff0a0f",
   "metadata": {},
   "source": [
    "## Poker Hands Data Set"
   ]
  },
  {
   "cell_type": "markdown",
   "id": "b55eadbb-f3ec-4a37-9def-da185cdb5138",
   "metadata": {},
   "source": [
    "##### Each row contains 10 numerical values and 1 ordinal value. Each row represents a poker hand consisting of 5 cards randomly drawn from a standard deck of 52 cards. Each card is represented by 2 columns: one denoting the rank of the card (Ace, 2, 3... Jack, Queen, King) and the other denoting the suit of the card (Hearts, Spades, Diamonds, Clubs). The order of the cards (columns 1-10) is important in determining a poker hand(column 11).\n",
    "  \n",
    "#### The rank of the card will be a numerical value where 1-13 represents Ace, 2, 3... Jack, Queen, King\n",
    "#### The suit of each card will be a numericl value where 1-4 represents Hearts, Spades, Diamonds, Clubs\n",
    "\n",
    "#### The final column is the poker hand. It will be a Ordinal value where 0-9 represents:\n",
    "   ######   0: Nothing in hand; not a recognized poker hand \n",
    "   ######   1: One pair; one pair of equal ranks within five cards\n",
    "   ######   2: Two pairs; two pairs of equal ranks within five cards\n",
    "   ######   3: Three of a kind; three equal ranks within five cards\n",
    "   ######   4: Straight; five cards, sequentially ranked with no gaps\n",
    "   ######   5: Flush; five cards with the same suit\n",
    "   ######   6: Full house; pair + different rank three of a kind\n",
    "   ######   7: Four of a kind; four equal ranks within five cards\n",
    "   ######   8: Straight flush; straight + flush\n",
    "   ######   9: Royal flush; {Ace, King, Queen, Jack, Ten} + flush"
   ]
  },
  {
   "cell_type": "code",
   "execution_count": 69,
   "id": "6f4f3031-4b66-41f5-bdae-fc7a888d729f",
   "metadata": {},
   "outputs": [],
   "source": [
    "import pandas as pd\n",
    "import matplotlib.pyplot as plt\n",
    "import numpy as np\n",
    "import seaborn as sns\n",
    "%matplotlib inline\n",
    "from sklearn.model_selection import train_test_split \n",
    "from sklearn.preprocessing import OneHotEncoder\n",
    "from sklearn.linear_model import LogisticRegression\n",
    "from sklearn.naive_bayes import GaussianNB, MultinomialNB, ComplementNB, BernoulliNB\n",
    "\n",
    "from sklearn.tree import DecisionTreeClassifier\n",
    "from sklearn.neighbors import KNeighborsClassifier\n",
    "\n",
    "from sklearn.svm import SVC\n",
    "\n",
    "\n",
    "from sklearn import tree\n",
    "from sklearn.tree import export_text\n",
    "import graphviz\n",
    "from sklearn.ensemble import RandomForestClassifier\n",
    "\n",
    "from sklearn.metrics import accuracy_score, confusion_matrix, classification_report"
   ]
  },
  {
   "cell_type": "code",
   "execution_count": 70,
   "id": "25255d15-8b5b-41ea-8aa3-e31810bd202b",
   "metadata": {},
   "outputs": [],
   "source": [
    "# reading the data files\n",
    "poker_train = pd.read_csv('poker-hand-training-true.data', header=None)\n",
    "poker_test = pd.read_csv('poker-hand-testing.data', header=None)"
   ]
  },
  {
   "cell_type": "code",
   "execution_count": 71,
   "id": "85cd9299-2ab3-4a1b-b5e0-824ec0a568e6",
   "metadata": {},
   "outputs": [
    {
     "data": {
      "text/plain": [
       "Int64Index([0, 1, 2, 3, 4, 5, 6, 7, 8, 9, 10], dtype='int64')"
      ]
     },
     "execution_count": 71,
     "metadata": {},
     "output_type": "execute_result"
    }
   ],
   "source": [
    "poker_train.columns"
   ]
  },
  {
   "cell_type": "markdown",
   "id": "ba73e3da-1829-4863-9d87-8abfab39a6a0",
   "metadata": {},
   "source": [
    "#### It appears that our data set does not have columns names. Each column represents a suit and rank of a specific card, and the last column represents the type of poker hand. We need to assign proper column names. "
   ]
  },
  {
   "cell_type": "code",
   "execution_count": 72,
   "id": "3904a21d-501d-469b-b2c7-b2500ebfe7d8",
   "metadata": {},
   "outputs": [],
   "source": [
    "colnames = ['Suit of Card #1', 'Rank of Card #1',\n",
    "       'Suit of Card #2', 'Rank of Card #2',\n",
    "       'Suit of Card #3', 'Rank of Card #3', \n",
    "       'Suit of Card #4', 'Rank of Card #4',\n",
    "       'Suit of Card #5', 'Rank of Card #5', 'Poker Hand'\n",
    "      ]"
   ]
  },
  {
   "cell_type": "markdown",
   "id": "6a8d7bc1-24e1-42da-92fd-fb1df46d960d",
   "metadata": {},
   "source": [
    "#### Defining what our columns will be named: this is based off what each number represents in our data. "
   ]
  },
  {
   "cell_type": "code",
   "execution_count": 73,
   "id": "5154fdc0-189a-42d5-ac3c-54762dda6556",
   "metadata": {},
   "outputs": [],
   "source": [
    "poker_test.columns = colnames\n",
    "poker_train.columns = colnames"
   ]
  },
  {
   "cell_type": "markdown",
   "id": "d986f016-f364-4d1c-8911-883a8ec066a9",
   "metadata": {},
   "source": [
    "#### Assinging the new column names to our datasets"
   ]
  },
  {
   "cell_type": "code",
   "execution_count": 74,
   "id": "17ae6575-84f2-4048-8c65-f6ca1970d623",
   "metadata": {},
   "outputs": [
    {
     "data": {
      "text/html": [
       "<div>\n",
       "<style scoped>\n",
       "    .dataframe tbody tr th:only-of-type {\n",
       "        vertical-align: middle;\n",
       "    }\n",
       "\n",
       "    .dataframe tbody tr th {\n",
       "        vertical-align: top;\n",
       "    }\n",
       "\n",
       "    .dataframe thead th {\n",
       "        text-align: right;\n",
       "    }\n",
       "</style>\n",
       "<table border=\"1\" class=\"dataframe\">\n",
       "  <thead>\n",
       "    <tr style=\"text-align: right;\">\n",
       "      <th></th>\n",
       "      <th>Suit of Card #1</th>\n",
       "      <th>Rank of Card #1</th>\n",
       "      <th>Suit of Card #2</th>\n",
       "      <th>Rank of Card #2</th>\n",
       "      <th>Suit of Card #3</th>\n",
       "      <th>Rank of Card #3</th>\n",
       "      <th>Suit of Card #4</th>\n",
       "      <th>Rank of Card #4</th>\n",
       "      <th>Suit of Card #5</th>\n",
       "      <th>Rank of Card #5</th>\n",
       "      <th>Poker Hand</th>\n",
       "    </tr>\n",
       "  </thead>\n",
       "  <tbody>\n",
       "    <tr>\n",
       "      <th>0</th>\n",
       "      <td>1</td>\n",
       "      <td>10</td>\n",
       "      <td>1</td>\n",
       "      <td>11</td>\n",
       "      <td>1</td>\n",
       "      <td>13</td>\n",
       "      <td>1</td>\n",
       "      <td>12</td>\n",
       "      <td>1</td>\n",
       "      <td>1</td>\n",
       "      <td>9</td>\n",
       "    </tr>\n",
       "    <tr>\n",
       "      <th>1</th>\n",
       "      <td>2</td>\n",
       "      <td>11</td>\n",
       "      <td>2</td>\n",
       "      <td>13</td>\n",
       "      <td>2</td>\n",
       "      <td>10</td>\n",
       "      <td>2</td>\n",
       "      <td>12</td>\n",
       "      <td>2</td>\n",
       "      <td>1</td>\n",
       "      <td>9</td>\n",
       "    </tr>\n",
       "    <tr>\n",
       "      <th>2</th>\n",
       "      <td>3</td>\n",
       "      <td>12</td>\n",
       "      <td>3</td>\n",
       "      <td>11</td>\n",
       "      <td>3</td>\n",
       "      <td>13</td>\n",
       "      <td>3</td>\n",
       "      <td>10</td>\n",
       "      <td>3</td>\n",
       "      <td>1</td>\n",
       "      <td>9</td>\n",
       "    </tr>\n",
       "    <tr>\n",
       "      <th>3</th>\n",
       "      <td>4</td>\n",
       "      <td>10</td>\n",
       "      <td>4</td>\n",
       "      <td>11</td>\n",
       "      <td>4</td>\n",
       "      <td>1</td>\n",
       "      <td>4</td>\n",
       "      <td>13</td>\n",
       "      <td>4</td>\n",
       "      <td>12</td>\n",
       "      <td>9</td>\n",
       "    </tr>\n",
       "    <tr>\n",
       "      <th>4</th>\n",
       "      <td>4</td>\n",
       "      <td>1</td>\n",
       "      <td>4</td>\n",
       "      <td>13</td>\n",
       "      <td>4</td>\n",
       "      <td>12</td>\n",
       "      <td>4</td>\n",
       "      <td>11</td>\n",
       "      <td>4</td>\n",
       "      <td>10</td>\n",
       "      <td>9</td>\n",
       "    </tr>\n",
       "  </tbody>\n",
       "</table>\n",
       "</div>"
      ],
      "text/plain": [
       "   Suit of Card #1  Rank of Card #1  Suit of Card #2  Rank of Card #2  \\\n",
       "0                1               10                1               11   \n",
       "1                2               11                2               13   \n",
       "2                3               12                3               11   \n",
       "3                4               10                4               11   \n",
       "4                4                1                4               13   \n",
       "\n",
       "   Suit of Card #3  Rank of Card #3  Suit of Card #4  Rank of Card #4  \\\n",
       "0                1               13                1               12   \n",
       "1                2               10                2               12   \n",
       "2                3               13                3               10   \n",
       "3                4                1                4               13   \n",
       "4                4               12                4               11   \n",
       "\n",
       "   Suit of Card #5  Rank of Card #5  Poker Hand  \n",
       "0                1                1           9  \n",
       "1                2                1           9  \n",
       "2                3                1           9  \n",
       "3                4               12           9  \n",
       "4                4               10           9  "
      ]
     },
     "execution_count": 74,
     "metadata": {},
     "output_type": "execute_result"
    }
   ],
   "source": [
    "poker_train.head()"
   ]
  },
  {
   "cell_type": "markdown",
   "id": "f87090e3-d8eb-426e-aee8-1a87638fe127",
   "metadata": {},
   "source": [
    "#### Checking to make sure that our column names were applied correctly. Looks good "
   ]
  },
  {
   "cell_type": "code",
   "execution_count": 75,
   "id": "2b218d09-a792-462d-a899-e284b430dc2b",
   "metadata": {},
   "outputs": [
    {
     "data": {
      "text/plain": [
       "(25010, 11)"
      ]
     },
     "execution_count": 75,
     "metadata": {},
     "output_type": "execute_result"
    }
   ],
   "source": [
    "poker_train.shape"
   ]
  },
  {
   "cell_type": "markdown",
   "id": "1f0ad27b-ccb1-4244-989e-ddf2bf29170d",
   "metadata": {},
   "source": [
    "#### Checking how many rows and columns we have in the training set. The description of the data says we should have 25,010 instances. Looks good"
   ]
  },
  {
   "cell_type": "code",
   "execution_count": 76,
   "id": "53f91036-73fb-46eb-b27d-54e92c7f6bf7",
   "metadata": {},
   "outputs": [
    {
     "data": {
      "text/plain": [
       "(1000000, 11)"
      ]
     },
     "execution_count": 76,
     "metadata": {},
     "output_type": "execute_result"
    }
   ],
   "source": [
    "poker_test.shape"
   ]
  },
  {
   "cell_type": "markdown",
   "id": "746bd16a-4528-456f-a2c0-fbc7649e74fa",
   "metadata": {},
   "source": [
    "#### Again, checking how many rows and columns we have. The description of the data says we should have 1,000,000 instances in this set. Looks good"
   ]
  },
  {
   "cell_type": "code",
   "execution_count": 77,
   "id": "0e87c7bb-50af-4207-b8b6-91122c7e00d4",
   "metadata": {},
   "outputs": [
    {
     "data": {
      "text/plain": [
       "0    12493\n",
       "1    10599\n",
       "2     1206\n",
       "3      513\n",
       "4       93\n",
       "5       54\n",
       "6       36\n",
       "7        6\n",
       "8        5\n",
       "9        5\n",
       "Name: Poker Hand, dtype: int64"
      ]
     },
     "execution_count": 77,
     "metadata": {},
     "output_type": "execute_result"
    }
   ],
   "source": [
    "poker_train['Poker Hand'].value_counts()"
   ]
  },
  {
   "cell_type": "markdown",
   "id": "7e281b2f-d6cb-419f-95c3-4584728e5efd",
   "metadata": {},
   "source": [
    "#### Checking how many times each specific poker hand occurs in the training set"
   ]
  },
  {
   "cell_type": "code",
   "execution_count": 78,
   "id": "ab971477-05d6-45c3-826c-c390686245bb",
   "metadata": {},
   "outputs": [
    {
     "data": {
      "text/plain": [
       "0    501209\n",
       "1    422498\n",
       "2     47622\n",
       "3     21121\n",
       "4      3885\n",
       "5      1996\n",
       "6      1424\n",
       "7       230\n",
       "8        12\n",
       "9         3\n",
       "Name: Poker Hand, dtype: int64"
      ]
     },
     "execution_count": 78,
     "metadata": {},
     "output_type": "execute_result"
    }
   ],
   "source": [
    "poker_test['Poker Hand'].value_counts()"
   ]
  },
  {
   "cell_type": "markdown",
   "id": "fcf1a121-6887-4cb7-a822-83fc638a8de5",
   "metadata": {},
   "source": [
    "#### Checking how many times each specific poker hand occurs in the test set. Note that there are more royal flushs(9) in the training set than the test set, even though the test set contains 1,000,000 samples compared to the training set having 25,010"
   ]
  },
  {
   "cell_type": "markdown",
   "id": "8b32dacd-da4a-4ada-8658-abc0a8f49d78",
   "metadata": {},
   "source": [
    "##### the description of our data tells us that in the training set, \"The Straight flush and Royal flush hands are not as representative of the true domain because they have been over-sampled. The Straight flush is 14.43 times more likely to occur in the training set, while the Royal flush is 129.82 times more likely.\""
   ]
  },
  {
   "cell_type": "code",
   "execution_count": 79,
   "id": "1314691c-2d8d-4db7-aa20-79756202627c",
   "metadata": {},
   "outputs": [
    {
     "data": {
      "image/png": "[encoded data removed]",
      "text/plain": [
       "<Figure size 432x288 with 1 Axes>"
      ]
     },
     "metadata": {
      "needs_background": "light"
     },
     "output_type": "display_data"
    }
   ],
   "source": [
    "hands = ['0','1','2','3','4','5','6','7','8','9']\n",
    "instances = [12493, 10599, 1206, 513, 93, 54, 36, 6, 5, 5]\n",
    "\n",
    "plt.bar(hands,instances)\n",
    "plt.title('Occurance of Poker Hands in Training Set')\n",
    "plt.xlabel('Poker Hands')\n",
    "plt.ylabel('Occurances')\n",
    "plt.show()"
   ]
  },
  {
   "cell_type": "markdown",
   "id": "85c2295a-7384-4e1f-a241-f9a65afcf892",
   "metadata": {},
   "source": [
    "#### a quick bar chart of the training set shows us that the distribution of poker hands is clearly disproportionate with nothing in hand(0) and one pair(1) being the most common by far"
   ]
  },
  {
   "cell_type": "code",
   "execution_count": 80,
   "id": "4131f0ad-59a0-47c4-9fc1-089176e0b227",
   "metadata": {},
   "outputs": [
    {
     "data": {
      "image/png": "[encoded data removed]",
      "text/plain": [
       "<Figure size 432x288 with 1 Axes>"
      ]
     },
     "metadata": {
      "needs_background": "light"
     },
     "output_type": "display_data"
    }
   ],
   "source": [
    "hands = ['0','1','2','3','4','5','6','7','8','9']\n",
    "instances = [501209, 422498, 47622, 21121, 3885, 1996, 1424, 230, 12, 3]\n",
    "\n",
    "plt.bar(hands,instances)\n",
    "plt.title('Occurance of Poker Hands in Test Set')\n",
    "plt.xlabel('Poker Hands')\n",
    "plt.ylabel('Occurances')\n",
    "plt.show()"
   ]
  },
  {
   "cell_type": "markdown",
   "id": "e1e77eb5-72a2-4926-a2dd-096d16196745",
   "metadata": {},
   "source": [
    "#### A bar chart of the test data shows us that the distribution of the training set and test set are similar. It appears that neither have a linear distribution."
   ]
  },
  {
   "cell_type": "markdown",
   "id": "0a5a7f3f-7ece-4dbd-8d1d-77bb740006f7",
   "metadata": {},
   "source": [
    "### Probability of each Poker Hand in each data set"
   ]
  },
  {
   "cell_type": "code",
   "execution_count": 81,
   "id": "7ff1bcc7-7a3c-4ebd-81c9-7480bc8f631e",
   "metadata": {},
   "outputs": [
    {
     "data": {
      "text/plain": [
       "0    0.499520\n",
       "1    0.423790\n",
       "2    0.048221\n",
       "3    0.020512\n",
       "4    0.003719\n",
       "5    0.002159\n",
       "6    0.001439\n",
       "7    0.000240\n",
       "8    0.000200\n",
       "9    0.000200\n",
       "Name: Poker Hand, dtype: float64"
      ]
     },
     "execution_count": 81,
     "metadata": {},
     "output_type": "execute_result"
    }
   ],
   "source": [
    "poker_train['Poker Hand'].value_counts() / len(poker_train)"
   ]
  },
  {
   "cell_type": "code",
   "execution_count": 82,
   "id": "80b1e255-65cc-40d2-b5dd-6d13a9bf39fb",
   "metadata": {},
   "outputs": [
    {
     "data": {
      "text/plain": [
       "0    0.501209\n",
       "1    0.422498\n",
       "2    0.047622\n",
       "3    0.021121\n",
       "4    0.003885\n",
       "5    0.001996\n",
       "6    0.001424\n",
       "7    0.000230\n",
       "8    0.000012\n",
       "9    0.000003\n",
       "Name: Poker Hand, dtype: float64"
      ]
     },
     "execution_count": 82,
     "metadata": {},
     "output_type": "execute_result"
    }
   ],
   "source": [
    "poker_test['Poker Hand'].value_counts() / len(poker_test)"
   ]
  },
  {
   "cell_type": "markdown",
   "id": "acb5216c-9579-4dc1-91ba-c8d77ee17d4e",
   "metadata": {},
   "source": [
    "#### Once again, this shows us that the training set has a good representation of the data besides the royal flush(9) and straight flush(8)."
   ]
  },
  {
   "cell_type": "code",
   "execution_count": 83,
   "id": "eaeea104-8f35-4153-86f5-8e75f192fac5",
   "metadata": {},
   "outputs": [
    {
     "data": {
      "text/plain": [
       "Poker Hand\n",
       "0    12493\n",
       "1    10599\n",
       "2     1206\n",
       "3      513\n",
       "4       93\n",
       "5       54\n",
       "6       36\n",
       "7        6\n",
       "8        5\n",
       "9        5\n",
       "dtype: int64"
      ]
     },
     "execution_count": 83,
     "metadata": {},
     "output_type": "execute_result"
    }
   ],
   "source": [
    "poker_train.groupby('Poker Hand').size()"
   ]
  },
  {
   "cell_type": "markdown",
   "id": "337d3960-4616-4d15-833b-7e8bfcdcc5da",
   "metadata": {},
   "source": [
    "## Creating a Confusion Matrix"
   ]
  },
  {
   "cell_type": "code",
   "execution_count": 84,
   "id": "61541663-da19-424d-8f11-e827f89d6f23",
   "metadata": {},
   "outputs": [],
   "source": [
    "def plot_cm(y_pred, y_test):\n",
    "    cm = confusion_matrix(y_pred, y_test)\n",
    "    fig = plt.figure(figsize=(5,5))\n",
    "    heatmap = sns.heatmap(cm, annot=True, fmt='.2f', cmap='RdYlGn')\n",
    "    plt.ylabel('True label')\n",
    "    plt.xlabel('Predicted Label')"
   ]
  },
  {
   "cell_type": "markdown",
   "id": "7bca82a1-4faa-426b-b201-11bc4c26d53b",
   "metadata": {},
   "source": [
    "## Seperating the Poker Hands from the Suits and the Ranks from both the training set and testing set"
   ]
  },
  {
   "cell_type": "code",
   "execution_count": 85,
   "id": "66a88436-4f59-40e5-a744-d2191edd4e3a",
   "metadata": {},
   "outputs": [],
   "source": [
    "X_train = (poker_train.iloc[:,:-1])\n",
    "y_train = poker_train['Poker Hand']\n",
    "\n",
    "X_test = poker_test.iloc[:,:-1]\n",
    "y_test = poker_test['Poker Hand']"
   ]
  },
  {
   "cell_type": "markdown",
   "id": "df68d3b0-7fe9-482f-8d0d-cc6fd14c6fbe",
   "metadata": {},
   "source": [
    "## Decision Tree #1"
   ]
  },
  {
   "cell_type": "code",
   "execution_count": 86,
   "id": "8896605c-26ca-4d60-8bc8-ebc5c76f904e",
   "metadata": {},
   "outputs": [
    {
     "name": "stdout",
     "output_type": "stream",
     "text": [
      "              precision    recall  f1-score   support\n",
      "\n",
      "           0       0.68      0.60      0.64    563389\n",
      "           1       0.50      0.51      0.50    416761\n",
      "           2       0.04      0.15      0.06     12733\n",
      "           3       0.05      0.19      0.08      5321\n",
      "           4       0.01      0.06      0.02       746\n",
      "           5       0.01      0.03      0.02       751\n",
      "           6       0.01      0.07      0.01       148\n",
      "           7       0.00      0.02      0.01        55\n",
      "           8       0.00      0.00      0.00        63\n",
      "           9       0.00      0.00      0.00        33\n",
      "\n",
      "    accuracy                           0.55   1000000\n",
      "   macro avg       0.13      0.16      0.13   1000000\n",
      "weighted avg       0.59      0.55      0.57   1000000\n",
      "\n"
     ]
    }
   ],
   "source": [
    "clf = tree.DecisionTreeClassifier(criterion='entropy',max_depth=11,splitter = 'best')\n",
    "clf = clf.fit(X_train, y_train)\n",
    "y_pred = clf.predict(X_test)\n",
    "print(classification_report(y_pred,y_test))"
   ]
  },
  {
   "cell_type": "markdown",
   "id": "56b2b211-c66b-4530-b6ba-9733f86f5396",
   "metadata": {},
   "source": [
    "## Decision Tree #2"
   ]
  },
  {
   "cell_type": "code",
   "execution_count": 87,
   "id": "1b9370ff-6cf8-4d7d-b626-305a230e55ca",
   "metadata": {},
   "outputs": [
    {
     "name": "stdout",
     "output_type": "stream",
     "text": [
      "              precision    recall  f1-score   support\n",
      "\n",
      "           0       0.62      0.57      0.59    544491\n",
      "           1       0.49      0.47      0.48    437965\n",
      "           2       0.04      0.15      0.06     11381\n",
      "           3       0.03      0.12      0.04      4619\n",
      "           4       0.01      0.06      0.01       413\n",
      "           5       0.19      0.75      0.31       513\n",
      "           6       0.01      0.02      0.01       444\n",
      "           7       0.00      0.00      0.00        39\n",
      "           8       0.00      0.00      0.00        79\n",
      "           9       0.00      0.00      0.00        56\n",
      "\n",
      "    accuracy                           0.52   1000000\n",
      "   macro avg       0.14      0.21      0.15   1000000\n",
      "weighted avg       0.55      0.52      0.53   1000000\n",
      "\n"
     ]
    }
   ],
   "source": [
    "clf = tree.DecisionTreeClassifier(criterion='gini',max_depth=11,splitter = 'best')\n",
    "clf = clf.fit(X_train, y_train)\n",
    "y_pred = clf.predict(X_test)\n",
    "print(classification_report(y_pred,y_test))"
   ]
  },
  {
   "cell_type": "code",
   "execution_count": 88,
   "id": "b60ee500-ea41-4100-996a-c36673ce2cc1",
   "metadata": {},
   "outputs": [
    {
     "data": {
      "image/png": "[encoded data removed]",
      "text/plain": [
       "<Figure size 360x360 with 2 Axes>"
      ]
     },
     "metadata": {
      "needs_background": "light"
     },
     "output_type": "display_data"
    }
   ],
   "source": [
    "plot_cm(y_pred, y_test)"
   ]
  },
  {
   "cell_type": "markdown",
   "id": "33bc97a7-14a0-4924-ad1f-c7025d2537d8",
   "metadata": {},
   "source": [
    "## Decision Tree #3"
   ]
  },
  {
   "cell_type": "code",
   "execution_count": 89,
   "id": "f000b327-2209-4c14-9cff-15caf23715a4",
   "metadata": {},
   "outputs": [
    {
     "name": "stdout",
     "output_type": "stream",
     "text": [
      "              precision    recall  f1-score   support\n",
      "\n",
      "           0       0.68      0.60      0.64    563077\n",
      "           1       0.50      0.51      0.50    417045\n",
      "           2       0.04      0.14      0.06     12970\n",
      "           3       0.05      0.20      0.08      5151\n",
      "           4       0.01      0.06      0.02       662\n",
      "           5       0.01      0.04      0.02       705\n",
      "           6       0.01      0.05      0.01       207\n",
      "           7       0.00      0.02      0.01        49\n",
      "           8       0.00      0.00      0.00       108\n",
      "           9       0.00      0.00      0.00        26\n",
      "\n",
      "    accuracy                           0.55   1000000\n",
      "   macro avg       0.13      0.16      0.13   1000000\n",
      "weighted avg       0.59      0.55      0.57   1000000\n",
      "\n"
     ]
    }
   ],
   "source": [
    "clf = tree.DecisionTreeClassifier(criterion='entropy',max_depth=11,min_samples_leaf=1)\n",
    "clf = clf.fit(X_train, y_train)\n",
    "y_pred = clf.predict(X_test)\n",
    "print(classification_report(y_pred,y_test))"
   ]
  },
  {
   "cell_type": "code",
   "execution_count": 90,
   "id": "aa20dc31-b559-469a-8b78-43de74ca0aca",
   "metadata": {},
   "outputs": [
    {
     "data": {
      "image/png": "[encoded data removed]",
      "text/plain": [
       "<Figure size 360x360 with 2 Axes>"
      ]
     },
     "metadata": {
      "needs_background": "light"
     },
     "output_type": "display_data"
    }
   ],
   "source": [
    "plot_cm(y_pred, y_test)"
   ]
  },
  {
   "cell_type": "markdown",
   "id": "fdbbcf8d-f343-4198-a5ec-5b3aac7ee4d2",
   "metadata": {},
   "source": [
    "## Random Forest Classifier #1"
   ]
  },
  {
   "cell_type": "code",
   "execution_count": 91,
   "id": "4638549a-bd4c-44bb-8b28-6e27bf79f4fb",
   "metadata": {},
   "outputs": [
    {
     "name": "stderr",
     "output_type": "stream",
     "text": [
      "/Users/bretttully/opt/anaconda3/lib/python3.8/site-packages/sklearn/metrics/_classification.py:1245: UndefinedMetricWarning: Recall and F-score are ill-defined and being set to 0.0 in labels with no true samples. Use `zero_division` parameter to control this behavior.\n",
      "  _warn_prf(average, modifier, msg_start, len(result))\n",
      "/Users/bretttully/opt/anaconda3/lib/python3.8/site-packages/sklearn/metrics/_classification.py:1245: UndefinedMetricWarning: Recall and F-score are ill-defined and being set to 0.0 in labels with no true samples. Use `zero_division` parameter to control this behavior.\n",
      "  _warn_prf(average, modifier, msg_start, len(result))\n"
     ]
    },
    {
     "name": "stdout",
     "output_type": "stream",
     "text": [
      "              precision    recall  f1-score   support\n",
      "\n",
      "           0       0.81      0.63      0.71    637946\n",
      "           1       0.49      0.57      0.53    361204\n",
      "           2       0.01      0.41      0.01       626\n",
      "           3       0.00      0.48      0.01       174\n",
      "           4       0.00      0.18      0.00        22\n",
      "           5       0.01      1.00      0.03        26\n",
      "           6       0.00      0.00      0.00         2\n",
      "           7       0.00      0.00      0.00         0\n",
      "           8       0.00      0.00      0.00         0\n",
      "           9       0.00      0.00      0.00         0\n",
      "\n",
      "    accuracy                           0.61   1000000\n",
      "   macro avg       0.13      0.33      0.13   1000000\n",
      "weighted avg       0.69      0.61      0.64   1000000\n",
      "\n"
     ]
    },
    {
     "name": "stderr",
     "output_type": "stream",
     "text": [
      "/Users/bretttully/opt/anaconda3/lib/python3.8/site-packages/sklearn/metrics/_classification.py:1245: UndefinedMetricWarning: Recall and F-score are ill-defined and being set to 0.0 in labels with no true samples. Use `zero_division` parameter to control this behavior.\n",
      "  _warn_prf(average, modifier, msg_start, len(result))\n"
     ]
    }
   ],
   "source": [
    "clf = RandomForestClassifier(criterion='entropy')\n",
    "clf.fit(X_train,np.ravel(y_train))\n",
    "y_pred = clf.predict(X_test)\n",
    "print(classification_report(y_pred,y_test))"
   ]
  },
  {
   "cell_type": "markdown",
   "id": "0c166340-3ec8-42ec-9681-5266b28300e3",
   "metadata": {},
   "source": [
    "## Random Forest Classifier #2"
   ]
  },
  {
   "cell_type": "code",
   "execution_count": 92,
   "id": "addc3fb1-eecf-4469-9a30-e3debb2eeb4d",
   "metadata": {},
   "outputs": [
    {
     "name": "stdout",
     "output_type": "stream",
     "text": [
      "Accuracy score  0.622951\n"
     ]
    },
    {
     "name": "stderr",
     "output_type": "stream",
     "text": [
      "/Users/bretttully/opt/anaconda3/lib/python3.8/site-packages/sklearn/metrics/_classification.py:1245: UndefinedMetricWarning: Recall and F-score are ill-defined and being set to 0.0 in labels with no true samples. Use `zero_division` parameter to control this behavior.\n",
      "  _warn_prf(average, modifier, msg_start, len(result))\n",
      "/Users/bretttully/opt/anaconda3/lib/python3.8/site-packages/sklearn/metrics/_classification.py:1245: UndefinedMetricWarning: Recall and F-score are ill-defined and being set to 0.0 in labels with no true samples. Use `zero_division` parameter to control this behavior.\n",
      "  _warn_prf(average, modifier, msg_start, len(result))\n"
     ]
    },
    {
     "name": "stdout",
     "output_type": "stream",
     "text": [
      "              precision    recall  f1-score   support\n",
      "\n",
      "           0       0.83      0.64      0.72    643280\n",
      "           1       0.49      0.59      0.54    356045\n",
      "           2       0.00      0.40      0.01       504\n",
      "           3       0.00      0.51      0.01       136\n",
      "           4       0.00      0.26      0.00        19\n",
      "           5       0.01      1.00      0.02        16\n",
      "           6       0.00      0.00      0.00         0\n",
      "           7       0.00      0.00      0.00         0\n",
      "           8       0.00      0.00      0.00         0\n",
      "           9       0.00      0.00      0.00         0\n",
      "\n",
      "    accuracy                           0.62   1000000\n",
      "   macro avg       0.13      0.34      0.13   1000000\n",
      "weighted avg       0.71      0.62      0.66   1000000\n",
      "\n"
     ]
    },
    {
     "name": "stderr",
     "output_type": "stream",
     "text": [
      "/Users/bretttully/opt/anaconda3/lib/python3.8/site-packages/sklearn/metrics/_classification.py:1245: UndefinedMetricWarning: Recall and F-score are ill-defined and being set to 0.0 in labels with no true samples. Use `zero_division` parameter to control this behavior.\n",
      "  _warn_prf(average, modifier, msg_start, len(result))\n"
     ]
    }
   ],
   "source": [
    "model = RandomForestClassifier(n_estimators = 800,criterion = 'entropy',bootstrap=True)\n",
    "model.fit(X_train,y_train)\n",
    "predictions = model.predict(X_test)\n",
    "print('Accuracy score ',accuracy_score(y_test,predictions))\n",
    "print(classification_report(predictions,y_test))"
   ]
  },
  {
   "cell_type": "markdown",
   "id": "41fdac3d-9616-45b4-8369-b1c10c44e0c5",
   "metadata": {},
   "source": [
    "## Random Forest Classifier #3"
   ]
  },
  {
   "cell_type": "code",
   "execution_count": 93,
   "id": "7640a054-93c8-4b4e-a421-7218e9811f94",
   "metadata": {},
   "outputs": [
    {
     "name": "stdout",
     "output_type": "stream",
     "text": [
      "Accuracy score  0.624872\n"
     ]
    },
    {
     "name": "stderr",
     "output_type": "stream",
     "text": [
      "/Users/bretttully/opt/anaconda3/lib/python3.8/site-packages/sklearn/metrics/_classification.py:1245: UndefinedMetricWarning: Recall and F-score are ill-defined and being set to 0.0 in labels with no true samples. Use `zero_division` parameter to control this behavior.\n",
      "  _warn_prf(average, modifier, msg_start, len(result))\n",
      "/Users/bretttully/opt/anaconda3/lib/python3.8/site-packages/sklearn/metrics/_classification.py:1245: UndefinedMetricWarning: Recall and F-score are ill-defined and being set to 0.0 in labels with no true samples. Use `zero_division` parameter to control this behavior.\n",
      "  _warn_prf(average, modifier, msg_start, len(result))\n"
     ]
    },
    {
     "name": "stdout",
     "output_type": "stream",
     "text": [
      "              precision    recall  f1-score   support\n",
      "\n",
      "           0       0.82      0.65      0.72    640611\n",
      "           1       0.50      0.59      0.54    358902\n",
      "           2       0.00      0.42      0.01       378\n",
      "           3       0.00      0.55      0.00        88\n",
      "           4       0.00      0.21      0.00        14\n",
      "           5       0.00      1.00      0.01         6\n",
      "           6       0.00      0.00      0.00         0\n",
      "           7       0.00      0.00      0.00         0\n",
      "           8       0.00      0.00      0.00         0\n",
      "           9       0.00      0.00      0.00         1\n",
      "\n",
      "    accuracy                           0.62   1000000\n",
      "   macro avg       0.13      0.34      0.13   1000000\n",
      "weighted avg       0.71      0.62      0.66   1000000\n",
      "\n"
     ]
    },
    {
     "name": "stderr",
     "output_type": "stream",
     "text": [
      "/Users/bretttully/opt/anaconda3/lib/python3.8/site-packages/sklearn/metrics/_classification.py:1245: UndefinedMetricWarning: Recall and F-score are ill-defined and being set to 0.0 in labels with no true samples. Use `zero_division` parameter to control this behavior.\n",
      "  _warn_prf(average, modifier, msg_start, len(result))\n"
     ]
    }
   ],
   "source": [
    "model = RandomForestClassifier(n_estimators = 800,criterion='gini',bootstrap=True)\n",
    "model.fit(X_train,y_train)\n",
    "predictions = model.predict(X_test)\n",
    "print('Accuracy score ',accuracy_score(y_test,predictions))\n",
    "print(classification_report(predictions,y_test))"
   ]
  },
  {
   "cell_type": "markdown",
   "id": "0fb6aa90-88ee-49dd-9a61-fceef3dfee83",
   "metadata": {},
   "source": [
    "## Random Forest Classifier #4"
   ]
  },
  {
   "cell_type": "code",
   "execution_count": 94,
   "id": "71019a57-c5ae-40fb-ab54-8349ca27f649",
   "metadata": {},
   "outputs": [
    {
     "name": "stdout",
     "output_type": "stream",
     "text": [
      "Accuracy score  0.624487\n"
     ]
    },
    {
     "name": "stderr",
     "output_type": "stream",
     "text": [
      "/Users/bretttully/opt/anaconda3/lib/python3.8/site-packages/sklearn/metrics/_classification.py:1245: UndefinedMetricWarning: Recall and F-score are ill-defined and being set to 0.0 in labels with no true samples. Use `zero_division` parameter to control this behavior.\n",
      "  _warn_prf(average, modifier, msg_start, len(result))\n",
      "/Users/bretttully/opt/anaconda3/lib/python3.8/site-packages/sklearn/metrics/_classification.py:1245: UndefinedMetricWarning: Recall and F-score are ill-defined and being set to 0.0 in labels with no true samples. Use `zero_division` parameter to control this behavior.\n",
      "  _warn_prf(average, modifier, msg_start, len(result))\n"
     ]
    },
    {
     "name": "stdout",
     "output_type": "stream",
     "text": [
      "              precision    recall  f1-score   support\n",
      "\n",
      "           0       0.83      0.64      0.72    641945\n",
      "           1       0.50      0.59      0.54    357585\n",
      "           2       0.00      0.41      0.01       360\n",
      "           3       0.00      0.53      0.00        89\n",
      "           4       0.00      0.21      0.00        14\n",
      "           5       0.00      1.00      0.01         7\n",
      "           6       0.00      0.00      0.00         0\n",
      "           7       0.00      0.00      0.00         0\n",
      "           8       0.00      0.00      0.00         0\n",
      "           9       0.00      0.00      0.00         0\n",
      "\n",
      "    accuracy                           0.62   1000000\n",
      "   macro avg       0.13      0.34      0.13   1000000\n",
      "weighted avg       0.71      0.62      0.66   1000000\n",
      "\n"
     ]
    },
    {
     "name": "stderr",
     "output_type": "stream",
     "text": [
      "/Users/bretttully/opt/anaconda3/lib/python3.8/site-packages/sklearn/metrics/_classification.py:1245: UndefinedMetricWarning: Recall and F-score are ill-defined and being set to 0.0 in labels with no true samples. Use `zero_division` parameter to control this behavior.\n",
      "  _warn_prf(average, modifier, msg_start, len(result))\n"
     ]
    }
   ],
   "source": [
    "model = RandomForestClassifier(n_estimators = 800,criterion='gini',bootstrap=True)\n",
    "model.fit(X_train,y_train)\n",
    "predictions = model.predict(X_test)\n",
    "print('Accuracy score ',accuracy_score(y_test,predictions))\n",
    "print(classification_report(predictions,y_test))"
   ]
  }
 ],
 "metadata": {
  "kernelspec": {
   "display_name": "Python 3",
   "language": "python",
   "name": "python3"
  },
  "language_info": {
   "codemirror_mode": {
    "name": "ipython",
    "version": 3
   },
   "file_extension": ".py",
   "mimetype": "text/x-python",
   "name": "python",
   "nbconvert_exporter": "python",
   "pygments_lexer": "ipython3",
   "version": "3.8.8"
  }
 },
 "nbformat": 4,
 "nbformat_minor": 5
}
