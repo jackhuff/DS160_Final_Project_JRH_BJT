{
 "cells": [
  {
   "cell_type": "code",
   "execution_count": 2,
   "id": "6f4f3031-4b66-41f5-bdae-fc7a888d729f",
   "metadata": {},
   "outputs": [],
   "source": [
    "import pandas as pd\n",
    "import matplotlib.pyplot as plt\n",
    "import numpy as np\n",
    "import seaborn as sns\n",
    "%matplotlib inline\n",
    "\n",
    "#Naive Bayes Classifier\n",
    "from sklearn.naive_bayes import GaussianNB, MultinomialNB, ComplementNB, BernoulliNB\n",
    "\n",
    "#Provides a way to split the data into train and test data sets.\n",
    "from sklearn.model_selection import train_test_split \n",
    "\n",
    "#Provides a way to calculate metrics on the model\n",
    "from sklearn.metrics import accuracy_score, confusion_matrix, classification_report\n",
    "#from sklearn.metrics import roc_curve,  roc_auc_score\n",
    "\n",
    "# Decision Tree model from SKLearn\n",
    "from sklearn import tree\n",
    "from sklearn.tree import export_text\n",
    "import graphviz\n",
    "\n"
   ]
  },
  {
   "cell_type": "code",
   "execution_count": 3,
   "id": "25255d15-8b5b-41ea-8aa3-e31810bd202b",
   "metadata": {},
   "outputs": [],
   "source": [
    "# reading the data files\n",
    "poker_train = pd.read_csv('poker-hand-training-true.data', header=None)\n",
    "poker_test = pd.read_csv('poker-hand-testing.data', header=None)"
   ]
  },
  {
   "cell_type": "code",
   "execution_count": 4,
   "id": "85cd9299-2ab3-4a1b-b5e0-824ec0a568e6",
   "metadata": {},
   "outputs": [
    {
     "data": {
      "text/plain": [
       "Int64Index([0, 1, 2, 3, 4, 5, 6, 7, 8, 9, 10], dtype='int64')"
      ]
     },
     "execution_count": 4,
     "metadata": {},
     "output_type": "execute_result"
    }
   ],
   "source": [
    "poker_train.columns"
   ]
  },
  {
   "cell_type": "markdown",
   "id": "ba73e3da-1829-4863-9d87-8abfab39a6a0",
   "metadata": {},
   "source": [
    "##### It appears that our data set does not have columns names. Each column represents a suit and rank of a specific card, and the last column represents the type of poker hand. We need to assign proper column names "
   ]
  },
  {
   "cell_type": "code",
   "execution_count": 5,
   "id": "3904a21d-501d-469b-b2c7-b2500ebfe7d8",
   "metadata": {},
   "outputs": [],
   "source": [
    "colnames = ['Suit of Card #1', 'Rank of Card #1',\n",
    "       'Suit of Card #2', 'Rank of Card #2',\n",
    "       'Suit of Card #3', 'Rank of Card #3', \n",
    "       'Suit of Card #4', 'Rank of Card #4',\n",
    "       'Suit of Card #5', 'Rank of Card #5', 'Poker Hand'\n",
    "      ]"
   ]
  },
  {
   "cell_type": "markdown",
   "id": "6a8d7bc1-24e1-42da-92fd-fb1df46d960d",
   "metadata": {},
   "source": [
    "##### Defining what our columns will be named: this is based off what each number represents in our data"
   ]
  },
  {
   "cell_type": "code",
   "execution_count": 6,
   "id": "5154fdc0-189a-42d5-ac3c-54762dda6556",
   "metadata": {},
   "outputs": [],
   "source": [
    "poker_test.columns = colnames\n",
    "poker_train.columns = colnames"
   ]
  },
  {
   "cell_type": "markdown",
   "id": "d986f016-f364-4d1c-8911-883a8ec066a9",
   "metadata": {},
   "source": [
    "##### Assinging the new column names to our datasets"
   ]
  },
  {
   "cell_type": "code",
   "execution_count": 7,
   "id": "17ae6575-84f2-4048-8c65-f6ca1970d623",
   "metadata": {},
   "outputs": [
    {
     "data": {
      "text/html": [
       "<div>\n",
       "<style scoped>\n",
       "    .dataframe tbody tr th:only-of-type {\n",
       "        vertical-align: middle;\n",
       "    }\n",
       "\n",
       "    .dataframe tbody tr th {\n",
       "        vertical-align: top;\n",
       "    }\n",
       "\n",
       "    .dataframe thead th {\n",
       "        text-align: right;\n",
       "    }\n",
       "</style>\n",
       "<table border=\"1\" class=\"dataframe\">\n",
       "  <thead>\n",
       "    <tr style=\"text-align: right;\">\n",
       "      <th></th>\n",
       "      <th>Suit of Card #1</th>\n",
       "      <th>Rank of Card #1</th>\n",
       "      <th>Suit of Card #2</th>\n",
       "      <th>Rank of Card #2</th>\n",
       "      <th>Suit of Card #3</th>\n",
       "      <th>Rank of Card #3</th>\n",
       "      <th>Suit of Card #4</th>\n",
       "      <th>Rank of Card #4</th>\n",
       "      <th>Suit of Card #5</th>\n",
       "      <th>Rank of Card #5</th>\n",
       "      <th>Poker Hand</th>\n",
       "    </tr>\n",
       "  </thead>\n",
       "  <tbody>\n",
       "    <tr>\n",
       "      <th>0</th>\n",
       "      <td>1</td>\n",
       "      <td>10</td>\n",
       "      <td>1</td>\n",
       "      <td>11</td>\n",
       "      <td>1</td>\n",
       "      <td>13</td>\n",
       "      <td>1</td>\n",
       "      <td>12</td>\n",
       "      <td>1</td>\n",
       "      <td>1</td>\n",
       "      <td>9</td>\n",
       "    </tr>\n",
       "    <tr>\n",
       "      <th>1</th>\n",
       "      <td>2</td>\n",
       "      <td>11</td>\n",
       "      <td>2</td>\n",
       "      <td>13</td>\n",
       "      <td>2</td>\n",
       "      <td>10</td>\n",
       "      <td>2</td>\n",
       "      <td>12</td>\n",
       "      <td>2</td>\n",
       "      <td>1</td>\n",
       "      <td>9</td>\n",
       "    </tr>\n",
       "    <tr>\n",
       "      <th>2</th>\n",
       "      <td>3</td>\n",
       "      <td>12</td>\n",
       "      <td>3</td>\n",
       "      <td>11</td>\n",
       "      <td>3</td>\n",
       "      <td>13</td>\n",
       "      <td>3</td>\n",
       "      <td>10</td>\n",
       "      <td>3</td>\n",
       "      <td>1</td>\n",
       "      <td>9</td>\n",
       "    </tr>\n",
       "    <tr>\n",
       "      <th>3</th>\n",
       "      <td>4</td>\n",
       "      <td>10</td>\n",
       "      <td>4</td>\n",
       "      <td>11</td>\n",
       "      <td>4</td>\n",
       "      <td>1</td>\n",
       "      <td>4</td>\n",
       "      <td>13</td>\n",
       "      <td>4</td>\n",
       "      <td>12</td>\n",
       "      <td>9</td>\n",
       "    </tr>\n",
       "    <tr>\n",
       "      <th>4</th>\n",
       "      <td>4</td>\n",
       "      <td>1</td>\n",
       "      <td>4</td>\n",
       "      <td>13</td>\n",
       "      <td>4</td>\n",
       "      <td>12</td>\n",
       "      <td>4</td>\n",
       "      <td>11</td>\n",
       "      <td>4</td>\n",
       "      <td>10</td>\n",
       "      <td>9</td>\n",
       "    </tr>\n",
       "  </tbody>\n",
       "</table>\n",
       "</div>"
      ],
      "text/plain": [
       "   Suit of Card #1  Rank of Card #1  Suit of Card #2  Rank of Card #2  \\\n",
       "0                1               10                1               11   \n",
       "1                2               11                2               13   \n",
       "2                3               12                3               11   \n",
       "3                4               10                4               11   \n",
       "4                4                1                4               13   \n",
       "\n",
       "   Suit of Card #3  Rank of Card #3  Suit of Card #4  Rank of Card #4  \\\n",
       "0                1               13                1               12   \n",
       "1                2               10                2               12   \n",
       "2                3               13                3               10   \n",
       "3                4                1                4               13   \n",
       "4                4               12                4               11   \n",
       "\n",
       "   Suit of Card #5  Rank of Card #5  Poker Hand  \n",
       "0                1                1           9  \n",
       "1                2                1           9  \n",
       "2                3                1           9  \n",
       "3                4               12           9  \n",
       "4                4               10           9  "
      ]
     },
     "execution_count": 7,
     "metadata": {},
     "output_type": "execute_result"
    }
   ],
   "source": [
    "poker_train.head()"
   ]
  },
  {
   "cell_type": "markdown",
   "id": "f87090e3-d8eb-426e-aee8-1a87638fe127",
   "metadata": {},
   "source": [
    "##### Checking to make sure that our column names were applied correctly. Looks good "
   ]
  },
  {
   "cell_type": "code",
   "execution_count": 8,
   "id": "2b218d09-a792-462d-a899-e284b430dc2b",
   "metadata": {},
   "outputs": [
    {
     "data": {
      "text/plain": [
       "(25010, 11)"
      ]
     },
     "execution_count": 8,
     "metadata": {},
     "output_type": "execute_result"
    }
   ],
   "source": [
    "poker_train.shape"
   ]
  },
  {
   "cell_type": "markdown",
   "id": "1f0ad27b-ccb1-4244-989e-ddf2bf29170d",
   "metadata": {},
   "source": [
    "##### Checking how many rows and columns we have"
   ]
  },
  {
   "cell_type": "code",
   "execution_count": 9,
   "id": "0e87c7bb-50af-4207-b8b6-91122c7e00d4",
   "metadata": {},
   "outputs": [
    {
     "data": {
      "text/plain": [
       "0    12493\n",
       "1    10599\n",
       "2     1206\n",
       "3      513\n",
       "4       93\n",
       "5       54\n",
       "6       36\n",
       "7        6\n",
       "8        5\n",
       "9        5\n",
       "Name: Poker Hand, dtype: int64"
      ]
     },
     "execution_count": 9,
     "metadata": {},
     "output_type": "execute_result"
    }
   ],
   "source": [
    "poker_train['Poker Hand'].value_counts()"
   ]
  },
  {
   "cell_type": "markdown",
   "id": "7e281b2f-d6cb-419f-95c3-4584728e5efd",
   "metadata": {},
   "source": [
    "##### Checking how many times each specific poker hand occurs. This column will likely be dropped as we begin to make our models. This would make more sense if we assign a name the values 0-9 as they each represent a specific poker hand"
   ]
  },
  {
   "cell_type": "code",
   "execution_count": 10,
   "id": "ab971477-05d6-45c3-826c-c390686245bb",
   "metadata": {},
   "outputs": [],
   "source": [
    "poker_hand = [0, 1, 2, 3, 4, 5, 6, 7, 8, 9]\n",
    "names = {\n",
    "        0: 'Nothing in hand; not a recognized poker hand',\n",
    "        1: 'One pair; one pair of equal ranks within five cards',\n",
    "        2: 'Two pairs; two pairs of equal ranks within five cards',\n",
    "        3: 'Three of a kind; three equal ranks within five cards',\n",
    "        4: 'Straight; five cards, sequentially ranked with no gaps',\n",
    "        5: 'Flush; five cards with the same suit',\n",
    "        6: 'Full house; pair + different rank three of a kind',\n",
    "        7: 'Four of a kind; four equal ranks within five cards',\n",
    "        8: 'Straight flush; straight + flush',\n",
    "        9: 'Royal flush; {Ace, King, Queen, Jack, Ten} + flush'\n",
    "     }"
   ]
  },
  {
   "cell_type": "code",
   "execution_count": null,
   "id": "684c43a3-4e38-4af8-982f-3a06ad48ce65",
   "metadata": {},
   "outputs": [],
   "source": []
  },
  {
   "cell_type": "code",
   "execution_count": 11,
   "id": "1314691c-2d8d-4db7-aa20-79756202627c",
   "metadata": {},
   "outputs": [
    {
     "data": {
      "image/png": "[encoded data removed]",
      "text/plain": [
       "<Figure size 432x288 with 1 Axes>"
      ]
     },
     "metadata": {
      "needs_background": "light"
     },
     "output_type": "display_data"
    }
   ],
   "source": [
    "hands = ['0','1','2','3','4','5','6','7','8','9']\n",
    "instances = [12493, 10599, 1206, 513, 93, 54, 36, 6, 5, 5]\n",
    "\n",
    "plt.bar(hands,instances)\n",
    "plt.title('Occurance of Poker Hands')\n",
    "plt.xlabel('Poker Hands')\n",
    "plt.ylabel('Occurances')\n",
    "plt.show()"
   ]
  },
  {
   "cell_type": "markdown",
   "id": "85c2295a-7384-4e1f-a241-f9a65afcf892",
   "metadata": {},
   "source": [
    "##### a quick bar chart shows us that the distribution of poker hands is clearly disproportionate with nothing in hand and one pair being the most common by far"
   ]
  },
  {
   "cell_type": "code",
   "execution_count": 12,
   "id": "7ff1bcc7-7a3c-4ebd-81c9-7480bc8f631e",
   "metadata": {},
   "outputs": [
    {
     "data": {
      "text/html": [
       "<div>\n",
       "<style scoped>\n",
       "    .dataframe tbody tr th:only-of-type {\n",
       "        vertical-align: middle;\n",
       "    }\n",
       "\n",
       "    .dataframe tbody tr th {\n",
       "        vertical-align: top;\n",
       "    }\n",
       "\n",
       "    .dataframe thead th {\n",
       "        text-align: right;\n",
       "    }\n",
       "</style>\n",
       "<table border=\"1\" class=\"dataframe\">\n",
       "  <thead>\n",
       "    <tr style=\"text-align: right;\">\n",
       "      <th></th>\n",
       "      <th>Suit of Card #1</th>\n",
       "      <th>Rank of Card #1</th>\n",
       "      <th>Suit of Card #2</th>\n",
       "      <th>Rank of Card #2</th>\n",
       "      <th>Suit of Card #3</th>\n",
       "      <th>Rank of Card #3</th>\n",
       "      <th>Suit of Card #4</th>\n",
       "      <th>Rank of Card #4</th>\n",
       "      <th>Suit of Card #5</th>\n",
       "      <th>Rank of Card #5</th>\n",
       "      <th>Poker Hand</th>\n",
       "    </tr>\n",
       "  </thead>\n",
       "  <tbody>\n",
       "    <tr>\n",
       "      <th>0</th>\n",
       "      <td>1</td>\n",
       "      <td>1</td>\n",
       "      <td>1</td>\n",
       "      <td>13</td>\n",
       "      <td>2</td>\n",
       "      <td>4</td>\n",
       "      <td>2</td>\n",
       "      <td>3</td>\n",
       "      <td>1</td>\n",
       "      <td>12</td>\n",
       "      <td>0</td>\n",
       "    </tr>\n",
       "    <tr>\n",
       "      <th>1</th>\n",
       "      <td>3</td>\n",
       "      <td>12</td>\n",
       "      <td>3</td>\n",
       "      <td>2</td>\n",
       "      <td>3</td>\n",
       "      <td>11</td>\n",
       "      <td>4</td>\n",
       "      <td>5</td>\n",
       "      <td>2</td>\n",
       "      <td>5</td>\n",
       "      <td>1</td>\n",
       "    </tr>\n",
       "    <tr>\n",
       "      <th>2</th>\n",
       "      <td>1</td>\n",
       "      <td>9</td>\n",
       "      <td>4</td>\n",
       "      <td>6</td>\n",
       "      <td>1</td>\n",
       "      <td>4</td>\n",
       "      <td>3</td>\n",
       "      <td>2</td>\n",
       "      <td>3</td>\n",
       "      <td>9</td>\n",
       "      <td>1</td>\n",
       "    </tr>\n",
       "    <tr>\n",
       "      <th>3</th>\n",
       "      <td>1</td>\n",
       "      <td>4</td>\n",
       "      <td>3</td>\n",
       "      <td>13</td>\n",
       "      <td>2</td>\n",
       "      <td>13</td>\n",
       "      <td>2</td>\n",
       "      <td>1</td>\n",
       "      <td>3</td>\n",
       "      <td>6</td>\n",
       "      <td>1</td>\n",
       "    </tr>\n",
       "    <tr>\n",
       "      <th>4</th>\n",
       "      <td>3</td>\n",
       "      <td>10</td>\n",
       "      <td>2</td>\n",
       "      <td>7</td>\n",
       "      <td>1</td>\n",
       "      <td>2</td>\n",
       "      <td>2</td>\n",
       "      <td>11</td>\n",
       "      <td>4</td>\n",
       "      <td>9</td>\n",
       "      <td>0</td>\n",
       "    </tr>\n",
       "    <tr>\n",
       "      <th>...</th>\n",
       "      <td>...</td>\n",
       "      <td>...</td>\n",
       "      <td>...</td>\n",
       "      <td>...</td>\n",
       "      <td>...</td>\n",
       "      <td>...</td>\n",
       "      <td>...</td>\n",
       "      <td>...</td>\n",
       "      <td>...</td>\n",
       "      <td>...</td>\n",
       "      <td>...</td>\n",
       "    </tr>\n",
       "    <tr>\n",
       "      <th>999995</th>\n",
       "      <td>3</td>\n",
       "      <td>1</td>\n",
       "      <td>1</td>\n",
       "      <td>12</td>\n",
       "      <td>2</td>\n",
       "      <td>9</td>\n",
       "      <td>4</td>\n",
       "      <td>9</td>\n",
       "      <td>2</td>\n",
       "      <td>6</td>\n",
       "      <td>1</td>\n",
       "    </tr>\n",
       "    <tr>\n",
       "      <th>999996</th>\n",
       "      <td>3</td>\n",
       "      <td>3</td>\n",
       "      <td>4</td>\n",
       "      <td>5</td>\n",
       "      <td>2</td>\n",
       "      <td>7</td>\n",
       "      <td>1</td>\n",
       "      <td>4</td>\n",
       "      <td>4</td>\n",
       "      <td>3</td>\n",
       "      <td>1</td>\n",
       "    </tr>\n",
       "    <tr>\n",
       "      <th>999997</th>\n",
       "      <td>1</td>\n",
       "      <td>11</td>\n",
       "      <td>4</td>\n",
       "      <td>7</td>\n",
       "      <td>3</td>\n",
       "      <td>9</td>\n",
       "      <td>1</td>\n",
       "      <td>13</td>\n",
       "      <td>2</td>\n",
       "      <td>7</td>\n",
       "      <td>1</td>\n",
       "    </tr>\n",
       "    <tr>\n",
       "      <th>999998</th>\n",
       "      <td>3</td>\n",
       "      <td>11</td>\n",
       "      <td>1</td>\n",
       "      <td>8</td>\n",
       "      <td>1</td>\n",
       "      <td>1</td>\n",
       "      <td>3</td>\n",
       "      <td>13</td>\n",
       "      <td>2</td>\n",
       "      <td>8</td>\n",
       "      <td>1</td>\n",
       "    </tr>\n",
       "    <tr>\n",
       "      <th>999999</th>\n",
       "      <td>2</td>\n",
       "      <td>5</td>\n",
       "      <td>2</td>\n",
       "      <td>9</td>\n",
       "      <td>4</td>\n",
       "      <td>9</td>\n",
       "      <td>2</td>\n",
       "      <td>3</td>\n",
       "      <td>3</td>\n",
       "      <td>3</td>\n",
       "      <td>2</td>\n",
       "    </tr>\n",
       "  </tbody>\n",
       "</table>\n",
       "<p>1000000 rows × 11 columns</p>\n",
       "</div>"
      ],
      "text/plain": [
       "        Suit of Card #1  Rank of Card #1  Suit of Card #2  Rank of Card #2  \\\n",
       "0                     1                1                1               13   \n",
       "1                     3               12                3                2   \n",
       "2                     1                9                4                6   \n",
       "3                     1                4                3               13   \n",
       "4                     3               10                2                7   \n",
       "...                 ...              ...              ...              ...   \n",
       "999995                3                1                1               12   \n",
       "999996                3                3                4                5   \n",
       "999997                1               11                4                7   \n",
       "999998                3               11                1                8   \n",
       "999999                2                5                2                9   \n",
       "\n",
       "        Suit of Card #3  Rank of Card #3  Suit of Card #4  Rank of Card #4  \\\n",
       "0                     2                4                2                3   \n",
       "1                     3               11                4                5   \n",
       "2                     1                4                3                2   \n",
       "3                     2               13                2                1   \n",
       "4                     1                2                2               11   \n",
       "...                 ...              ...              ...              ...   \n",
       "999995                2                9                4                9   \n",
       "999996                2                7                1                4   \n",
       "999997                3                9                1               13   \n",
       "999998                1                1                3               13   \n",
       "999999                4                9                2                3   \n",
       "\n",
       "        Suit of Card #5  Rank of Card #5  Poker Hand  \n",
       "0                     1               12           0  \n",
       "1                     2                5           1  \n",
       "2                     3                9           1  \n",
       "3                     3                6           1  \n",
       "4                     4                9           0  \n",
       "...                 ...              ...         ...  \n",
       "999995                2                6           1  \n",
       "999996                4                3           1  \n",
       "999997                2                7           1  \n",
       "999998                2                8           1  \n",
       "999999                3                3           2  \n",
       "\n",
       "[1000000 rows x 11 columns]"
      ]
     },
     "execution_count": 12,
     "metadata": {},
     "output_type": "execute_result"
    }
   ],
   "source": [
    "poker_test"
   ]
  },
  {
   "cell_type": "code",
   "execution_count": null,
   "id": "1b4c5465-e070-4385-a31f-94f2ed665f84",
   "metadata": {},
   "outputs": [],
   "source": []
  }
 ],
 "metadata": {
  "kernelspec": {
   "display_name": "Python 3",
   "language": "python",
   "name": "python3"
  },
  "language_info": {
   "codemirror_mode": {
    "name": "ipython",
    "version": 3
   },
   "file_extension": ".py",
   "mimetype": "text/x-python",
   "name": "python",
   "nbconvert_exporter": "python",
   "pygments_lexer": "ipython3",
   "version": "3.8.8"
  }
 },
 "nbformat": 4,
 "nbformat_minor": 5
}
