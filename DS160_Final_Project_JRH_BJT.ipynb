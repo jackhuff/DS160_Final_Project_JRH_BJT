{
 "cells": [
  {
   "cell_type": "markdown",
   "id": "bfdf24e7-5719-4b8a-a93a-40aa6f9dc0bf",
   "metadata": {},
   "source": [
    "# DS160_Final_Project_JRH_BJT"
   ]
  },
  {
   "cell_type": "markdown",
   "id": "e333b559-8b3a-4261-85a2-ad749eff0a0f",
   "metadata": {},
   "source": [
    "## Poker Hands Data Set"
   ]
  },
  {
   "cell_type": "markdown",
   "id": "b55eadbb-f3ec-4a37-9def-da185cdb5138",
   "metadata": {},
   "source": [
    "##### Each row contains 10 numerical values and 1 ordinal value. Each row represents a poker hand consisting of 5 cards randomly drawn from a standard deck of 52 cards. Each card is represented by 2 columns: one denoting the rank of the card (Ace, 2, 3... Jack, Queen, King) and the other denoting the suit of the card (Hearts, Spades, Diamonds, Clubs). The order of the cards (columns 1-10) is important in determining a poker hand(column 11).\n",
    "  \n",
    "#### The rank of the card will be a numerical value where 1-13 represents Ace, 2, 3... Jack, Queen, King\n",
    "#### The suit of each card will be a numericl value where 1-4 represents Hearts, Spades, Diamonds, Clubs\n",
    "\n",
    "#### The final column is the poker hand. It will be a Ordinal value where 0-9 represents:\n",
    "   ######   0: Nothing in hand; not a recognized poker hand \n",
    "   ######   1: One pair; one pair of equal ranks within five cards\n",
    "   ######   2: Two pairs; two pairs of equal ranks within five cards\n",
    "   ######   3: Three of a kind; three equal ranks within five cards\n",
    "   ######   4: Straight; five cards, sequentially ranked with no gaps\n",
    "   ######   5: Flush; five cards with the same suit\n",
    "   ######   6: Full house; pair + different rank three of a kind\n",
    "   ######   7: Four of a kind; four equal ranks within five cards\n",
    "   ######   8: Straight flush; straight + flush\n",
    "   ######   9: Royal flush; {Ace, King, Queen, Jack, Ten} + flush"
   ]
  },
  {
   "cell_type": "code",
   "execution_count": 221,
   "id": "6f4f3031-4b66-41f5-bdae-fc7a888d729f",
   "metadata": {},
   "outputs": [],
   "source": [
    "import pandas as pd\n",
    "import matplotlib.pyplot as plt\n",
    "import numpy as np\n",
    "import seaborn as sns\n",
    "%matplotlib inline\n",
    "from sklearn.model_selection import train_test_split \n",
    "from sklearn.preprocessing import OneHotEncoder\n",
    "from sklearn.linear_model import LogisticRegression\n",
    "from sklearn.naive_bayes import GaussianNB, MultinomialNB, ComplementNB, BernoulliNB\n",
    "from sklearn import tree\n",
    "from sklearn.tree import export_text\n",
    "import graphviz\n",
    "\n",
    "from sklearn.metrics import accuracy_score, confusion_matrix, classification_report"
   ]
  },
  {
   "cell_type": "code",
   "execution_count": 222,
   "id": "328fb28d-0757-4c87-928f-7f0b4c8c4884",
   "metadata": {},
   "outputs": [],
   "source": [
    "from pandas import read_csv\n",
    "from pandas.plotting import scatter_matrix\n",
    "from matplotlib import pyplot\n",
    "from sklearn.model_selection import train_test_split\n",
    "from sklearn.model_selection import cross_val_score\n",
    "from sklearn.model_selection import StratifiedKFold\n",
    "from sklearn.metrics import classification_report\n",
    "from sklearn.metrics import confusion_matrix\n",
    "from sklearn.metrics import accuracy_score\n",
    "from sklearn.linear_model import LogisticRegression\n",
    "from sklearn.tree import DecisionTreeClassifier\n",
    "from sklearn.neighbors import KNeighborsClassifier\n",
    "from sklearn.discriminant_analysis import LinearDiscriminantAnalysis\n",
    "from sklearn.naive_bayes import GaussianNB\n",
    "from sklearn.svm import SVC\n"
   ]
  },
  {
   "cell_type": "code",
   "execution_count": 223,
   "id": "25255d15-8b5b-41ea-8aa3-e31810bd202b",
   "metadata": {},
   "outputs": [],
   "source": [
    "# reading the data files\n",
    "poker_train = pd.read_csv('poker-hand-training-true.data', header=None)\n",
    "poker_test = pd.read_csv('poker-hand-testing.data', header=None)"
   ]
  },
  {
   "cell_type": "code",
   "execution_count": 224,
   "id": "85cd9299-2ab3-4a1b-b5e0-824ec0a568e6",
   "metadata": {},
   "outputs": [
    {
     "data": {
      "text/plain": [
       "Int64Index([0, 1, 2, 3, 4, 5, 6, 7, 8, 9, 10], dtype='int64')"
      ]
     },
     "execution_count": 224,
     "metadata": {},
     "output_type": "execute_result"
    }
   ],
   "source": [
    "poker_train.columns"
   ]
  },
  {
   "cell_type": "markdown",
   "id": "ba73e3da-1829-4863-9d87-8abfab39a6a0",
   "metadata": {},
   "source": [
    "#### It appears that our data set does not have columns names. Each column represents a suit and rank of a specific card, and the last column represents the type of poker hand. We need to assign proper column names. "
   ]
  },
  {
   "cell_type": "code",
   "execution_count": 225,
   "id": "3904a21d-501d-469b-b2c7-b2500ebfe7d8",
   "metadata": {},
   "outputs": [],
   "source": [
    "colnames = ['Suit of Card #1', 'Rank of Card #1',\n",
    "       'Suit of Card #2', 'Rank of Card #2',\n",
    "       'Suit of Card #3', 'Rank of Card #3', \n",
    "       'Suit of Card #4', 'Rank of Card #4',\n",
    "       'Suit of Card #5', 'Rank of Card #5', 'Poker Hand'\n",
    "      ]"
   ]
  },
  {
   "cell_type": "markdown",
   "id": "6a8d7bc1-24e1-42da-92fd-fb1df46d960d",
   "metadata": {},
   "source": [
    "#### Defining what our columns will be named: this is based off what each number represents in our data. "
   ]
  },
  {
   "cell_type": "code",
   "execution_count": 226,
   "id": "5154fdc0-189a-42d5-ac3c-54762dda6556",
   "metadata": {},
   "outputs": [],
   "source": [
    "poker_test.columns = colnames\n",
    "poker_train.columns = colnames"
   ]
  },
  {
   "cell_type": "markdown",
   "id": "d986f016-f364-4d1c-8911-883a8ec066a9",
   "metadata": {},
   "source": [
    "#### Assinging the new column names to our datasets"
   ]
  },
  {
   "cell_type": "code",
   "execution_count": 227,
   "id": "17ae6575-84f2-4048-8c65-f6ca1970d623",
   "metadata": {},
   "outputs": [
    {
     "data": {
      "text/html": [
       "<div>\n",
       "<style scoped>\n",
       "    .dataframe tbody tr th:only-of-type {\n",
       "        vertical-align: middle;\n",
       "    }\n",
       "\n",
       "    .dataframe tbody tr th {\n",
       "        vertical-align: top;\n",
       "    }\n",
       "\n",
       "    .dataframe thead th {\n",
       "        text-align: right;\n",
       "    }\n",
       "</style>\n",
       "<table border=\"1\" class=\"dataframe\">\n",
       "  <thead>\n",
       "    <tr style=\"text-align: right;\">\n",
       "      <th></th>\n",
       "      <th>Suit of Card #1</th>\n",
       "      <th>Rank of Card #1</th>\n",
       "      <th>Suit of Card #2</th>\n",
       "      <th>Rank of Card #2</th>\n",
       "      <th>Suit of Card #3</th>\n",
       "      <th>Rank of Card #3</th>\n",
       "      <th>Suit of Card #4</th>\n",
       "      <th>Rank of Card #4</th>\n",
       "      <th>Suit of Card #5</th>\n",
       "      <th>Rank of Card #5</th>\n",
       "      <th>Poker Hand</th>\n",
       "    </tr>\n",
       "  </thead>\n",
       "  <tbody>\n",
       "    <tr>\n",
       "      <th>0</th>\n",
       "      <td>1</td>\n",
       "      <td>10</td>\n",
       "      <td>1</td>\n",
       "      <td>11</td>\n",
       "      <td>1</td>\n",
       "      <td>13</td>\n",
       "      <td>1</td>\n",
       "      <td>12</td>\n",
       "      <td>1</td>\n",
       "      <td>1</td>\n",
       "      <td>9</td>\n",
       "    </tr>\n",
       "    <tr>\n",
       "      <th>1</th>\n",
       "      <td>2</td>\n",
       "      <td>11</td>\n",
       "      <td>2</td>\n",
       "      <td>13</td>\n",
       "      <td>2</td>\n",
       "      <td>10</td>\n",
       "      <td>2</td>\n",
       "      <td>12</td>\n",
       "      <td>2</td>\n",
       "      <td>1</td>\n",
       "      <td>9</td>\n",
       "    </tr>\n",
       "    <tr>\n",
       "      <th>2</th>\n",
       "      <td>3</td>\n",
       "      <td>12</td>\n",
       "      <td>3</td>\n",
       "      <td>11</td>\n",
       "      <td>3</td>\n",
       "      <td>13</td>\n",
       "      <td>3</td>\n",
       "      <td>10</td>\n",
       "      <td>3</td>\n",
       "      <td>1</td>\n",
       "      <td>9</td>\n",
       "    </tr>\n",
       "    <tr>\n",
       "      <th>3</th>\n",
       "      <td>4</td>\n",
       "      <td>10</td>\n",
       "      <td>4</td>\n",
       "      <td>11</td>\n",
       "      <td>4</td>\n",
       "      <td>1</td>\n",
       "      <td>4</td>\n",
       "      <td>13</td>\n",
       "      <td>4</td>\n",
       "      <td>12</td>\n",
       "      <td>9</td>\n",
       "    </tr>\n",
       "    <tr>\n",
       "      <th>4</th>\n",
       "      <td>4</td>\n",
       "      <td>1</td>\n",
       "      <td>4</td>\n",
       "      <td>13</td>\n",
       "      <td>4</td>\n",
       "      <td>12</td>\n",
       "      <td>4</td>\n",
       "      <td>11</td>\n",
       "      <td>4</td>\n",
       "      <td>10</td>\n",
       "      <td>9</td>\n",
       "    </tr>\n",
       "  </tbody>\n",
       "</table>\n",
       "</div>"
      ],
      "text/plain": [
       "   Suit of Card #1  Rank of Card #1  Suit of Card #2  Rank of Card #2  \\\n",
       "0                1               10                1               11   \n",
       "1                2               11                2               13   \n",
       "2                3               12                3               11   \n",
       "3                4               10                4               11   \n",
       "4                4                1                4               13   \n",
       "\n",
       "   Suit of Card #3  Rank of Card #3  Suit of Card #4  Rank of Card #4  \\\n",
       "0                1               13                1               12   \n",
       "1                2               10                2               12   \n",
       "2                3               13                3               10   \n",
       "3                4                1                4               13   \n",
       "4                4               12                4               11   \n",
       "\n",
       "   Suit of Card #5  Rank of Card #5  Poker Hand  \n",
       "0                1                1           9  \n",
       "1                2                1           9  \n",
       "2                3                1           9  \n",
       "3                4               12           9  \n",
       "4                4               10           9  "
      ]
     },
     "execution_count": 227,
     "metadata": {},
     "output_type": "execute_result"
    }
   ],
   "source": [
    "poker_train.head()"
   ]
  },
  {
   "cell_type": "markdown",
   "id": "f87090e3-d8eb-426e-aee8-1a87638fe127",
   "metadata": {},
   "source": [
    "#### Checking to make sure that our column names were applied correctly. Looks good "
   ]
  },
  {
   "cell_type": "code",
   "execution_count": 228,
   "id": "2b218d09-a792-462d-a899-e284b430dc2b",
   "metadata": {},
   "outputs": [
    {
     "data": {
      "text/plain": [
       "(25010, 11)"
      ]
     },
     "execution_count": 228,
     "metadata": {},
     "output_type": "execute_result"
    }
   ],
   "source": [
    "poker_train.shape"
   ]
  },
  {
   "cell_type": "markdown",
   "id": "1f0ad27b-ccb1-4244-989e-ddf2bf29170d",
   "metadata": {},
   "source": [
    "#### Checking how many rows and columns we have in the training set. The description of the data says we should have 25,010 instances. Looks good"
   ]
  },
  {
   "cell_type": "code",
   "execution_count": 229,
   "id": "53f91036-73fb-46eb-b27d-54e92c7f6bf7",
   "metadata": {},
   "outputs": [
    {
     "data": {
      "text/plain": [
       "(1000000, 11)"
      ]
     },
     "execution_count": 229,
     "metadata": {},
     "output_type": "execute_result"
    }
   ],
   "source": [
    "poker_test.shape"
   ]
  },
  {
   "cell_type": "markdown",
   "id": "746bd16a-4528-456f-a2c0-fbc7649e74fa",
   "metadata": {},
   "source": [
    "#### Again, checking how many rows and columns we have. The description of the data says we should have 1,000,000 instances in this set. Looks good"
   ]
  },
  {
   "cell_type": "code",
   "execution_count": 230,
   "id": "0e87c7bb-50af-4207-b8b6-91122c7e00d4",
   "metadata": {},
   "outputs": [
    {
     "data": {
      "text/plain": [
       "0    12493\n",
       "1    10599\n",
       "2     1206\n",
       "3      513\n",
       "4       93\n",
       "5       54\n",
       "6       36\n",
       "7        6\n",
       "8        5\n",
       "9        5\n",
       "Name: Poker Hand, dtype: int64"
      ]
     },
     "execution_count": 230,
     "metadata": {},
     "output_type": "execute_result"
    }
   ],
   "source": [
    "poker_train['Poker Hand'].value_counts()"
   ]
  },
  {
   "cell_type": "markdown",
   "id": "7e281b2f-d6cb-419f-95c3-4584728e5efd",
   "metadata": {},
   "source": [
    "#### Checking how many times each specific poker hand occurs in the training set"
   ]
  },
  {
   "cell_type": "code",
   "execution_count": 231,
   "id": "ab971477-05d6-45c3-826c-c390686245bb",
   "metadata": {},
   "outputs": [
    {
     "data": {
      "text/plain": [
       "0    501209\n",
       "1    422498\n",
       "2     47622\n",
       "3     21121\n",
       "4      3885\n",
       "5      1996\n",
       "6      1424\n",
       "7       230\n",
       "8        12\n",
       "9         3\n",
       "Name: Poker Hand, dtype: int64"
      ]
     },
     "execution_count": 231,
     "metadata": {},
     "output_type": "execute_result"
    }
   ],
   "source": [
    "poker_test['Poker Hand'].value_counts()"
   ]
  },
  {
   "cell_type": "markdown",
   "id": "fcf1a121-6887-4cb7-a822-83fc638a8de5",
   "metadata": {},
   "source": [
    "#### Checking how many times each specific poker hand occurs in the test set. Note that there are more royal flushs(9) in the training set than the test set, even though the test set contains 1,000,000 samples compared to the training set having 25,010"
   ]
  },
  {
   "cell_type": "markdown",
   "id": "8b32dacd-da4a-4ada-8658-abc0a8f49d78",
   "metadata": {},
   "source": [
    "##### the description of our data tells us that in the training set, \"The Straight flush and Royal flush hands are not as representative of the true domain because they have been over-sampled. The Straight flush is 14.43 times more likely to occur in the training set, while the Royal flush is 129.82 times more likely.\""
   ]
  },
  {
   "cell_type": "code",
   "execution_count": 232,
   "id": "1314691c-2d8d-4db7-aa20-79756202627c",
   "metadata": {},
   "outputs": [
    {
     "data": {
      "image/png": "[encoded data removed]",
      "text/plain": [
       "<Figure size 432x288 with 1 Axes>"
      ]
     },
     "metadata": {
      "needs_background": "light"
     },
     "output_type": "display_data"
    }
   ],
   "source": [
    "hands = ['0','1','2','3','4','5','6','7','8','9']\n",
    "instances = [12493, 10599, 1206, 513, 93, 54, 36, 6, 5, 5]\n",
    "\n",
    "plt.bar(hands,instances)\n",
    "plt.title('Occurance of Poker Hands in Training Set')\n",
    "plt.xlabel('Poker Hands')\n",
    "plt.ylabel('Occurances')\n",
    "plt.show()"
   ]
  },
  {
   "cell_type": "markdown",
   "id": "85c2295a-7384-4e1f-a241-f9a65afcf892",
   "metadata": {},
   "source": [
    "#### a quick bar chart of the training set shows us that the distribution of poker hands is clearly disproportionate with nothing in hand(0) and one pair(1) being the most common by far"
   ]
  },
  {
   "cell_type": "code",
   "execution_count": 233,
   "id": "4131f0ad-59a0-47c4-9fc1-089176e0b227",
   "metadata": {},
   "outputs": [
    {
     "data": {
      "image/png": "[encoded data removed]",
      "text/plain": [
       "<Figure size 432x288 with 1 Axes>"
      ]
     },
     "metadata": {
      "needs_background": "light"
     },
     "output_type": "display_data"
    }
   ],
   "source": [
    "hands = ['0','1','2','3','4','5','6','7','8','9']\n",
    "instances = [501209, 422498, 47622, 21121, 3885, 1996, 1424, 230, 12, 3]\n",
    "\n",
    "plt.bar(hands,instances)\n",
    "plt.title('Occurance of Poker Hands in Test Set')\n",
    "plt.xlabel('Poker Hands')\n",
    "plt.ylabel('Occurances')\n",
    "plt.show()"
   ]
  },
  {
   "cell_type": "markdown",
   "id": "e1e77eb5-72a2-4926-a2dd-096d16196745",
   "metadata": {},
   "source": [
    "#### A bar chart of the test data shows us that the distribution of the training set and test set are similar. It appears that neither have a linear distribution."
   ]
  },
  {
   "cell_type": "markdown",
   "id": "0a5a7f3f-7ece-4dbd-8d1d-77bb740006f7",
   "metadata": {},
   "source": [
    "### Probability of each Poker Hand in each data set"
   ]
  },
  {
   "cell_type": "code",
   "execution_count": 234,
   "id": "7ff1bcc7-7a3c-4ebd-81c9-7480bc8f631e",
   "metadata": {},
   "outputs": [
    {
     "data": {
      "text/plain": [
       "0    0.499520\n",
       "1    0.423790\n",
       "2    0.048221\n",
       "3    0.020512\n",
       "4    0.003719\n",
       "5    0.002159\n",
       "6    0.001439\n",
       "7    0.000240\n",
       "8    0.000200\n",
       "9    0.000200\n",
       "Name: Poker Hand, dtype: float64"
      ]
     },
     "execution_count": 234,
     "metadata": {},
     "output_type": "execute_result"
    }
   ],
   "source": [
    "poker_train['Poker Hand'].value_counts() / len(poker_train)"
   ]
  },
  {
   "cell_type": "code",
   "execution_count": 235,
   "id": "80b1e255-65cc-40d2-b5dd-6d13a9bf39fb",
   "metadata": {},
   "outputs": [
    {
     "data": {
      "text/plain": [
       "0    0.501209\n",
       "1    0.422498\n",
       "2    0.047622\n",
       "3    0.021121\n",
       "4    0.003885\n",
       "5    0.001996\n",
       "6    0.001424\n",
       "7    0.000230\n",
       "8    0.000012\n",
       "9    0.000003\n",
       "Name: Poker Hand, dtype: float64"
      ]
     },
     "execution_count": 235,
     "metadata": {},
     "output_type": "execute_result"
    }
   ],
   "source": [
    "poker_test['Poker Hand'].value_counts() / len(poker_test)"
   ]
  },
  {
   "cell_type": "markdown",
   "id": "acb5216c-9579-4dc1-91ba-c8d77ee17d4e",
   "metadata": {},
   "source": [
    "#### Once again, this shows us that the training set has a good representation of the data besides the royal flush(9) and straight flush(8)."
   ]
  },
  {
   "cell_type": "code",
   "execution_count": 236,
   "id": "b3a0e3f0-0d70-4ba5-9dd0-fc0402b06ba6",
   "metadata": {},
   "outputs": [],
   "source": [
    "y_train = poker_train['Poker Hand']\n",
    "y_test = poker_test['Poker Hand']"
   ]
  },
  {
   "cell_type": "code",
   "execution_count": 237,
   "id": "2c189fec-8562-4c38-8281-8f1d86ebb453",
   "metadata": {},
   "outputs": [],
   "source": [
    "x_train = poker_train.drop('Poker Hand', axis=1)\n",
    "x_test = poker_test.drop('Poker Hand', axis=1)"
   ]
  },
  {
   "cell_type": "code",
   "execution_count": 238,
   "id": "617d21b7-aa3d-4af7-b714-6b22a8344fad",
   "metadata": {},
   "outputs": [],
   "source": [
    "clf =MultinomialNB()\n",
    "clf.fit(x_train, np.ravel(y_train))\n",
    "y_pred = clf.predict(x_test)"
   ]
  },
  {
   "cell_type": "code",
   "execution_count": 239,
   "id": "9839fa3a-8709-456a-9890-ac184f151b6c",
   "metadata": {
    "tags": []
   },
   "outputs": [
    {
     "name": "stderr",
     "output_type": "stream",
     "text": [
      "/Users/bretttully/opt/anaconda3/lib/python3.8/site-packages/sklearn/metrics/_classification.py:1245: UndefinedMetricWarning: Recall and F-score are ill-defined and being set to 0.0 in labels with no true samples. Use `zero_division` parameter to control this behavior.\n",
      "  _warn_prf(average, modifier, msg_start, len(result))\n",
      "/Users/bretttully/opt/anaconda3/lib/python3.8/site-packages/sklearn/metrics/_classification.py:1245: UndefinedMetricWarning: Recall and F-score are ill-defined and being set to 0.0 in labels with no true samples. Use `zero_division` parameter to control this behavior.\n",
      "  _warn_prf(average, modifier, msg_start, len(result))\n"
     ]
    },
    {
     "name": "stdout",
     "output_type": "stream",
     "text": [
      "              precision    recall  f1-score   support\n",
      "\n",
      "           0       1.00      0.50      0.67    998991\n",
      "           1       0.00      0.47      0.00      1009\n",
      "           2       0.00      0.00      0.00         0\n",
      "           3       0.00      0.00      0.00         0\n",
      "           4       0.00      0.00      0.00         0\n",
      "           5       0.00      0.00      0.00         0\n",
      "           6       0.00      0.00      0.00         0\n",
      "           7       0.00      0.00      0.00         0\n",
      "           8       0.00      0.00      0.00         0\n",
      "           9       0.00      0.00      0.00         0\n",
      "\n",
      "    accuracy                           0.50   1000000\n",
      "   macro avg       0.10      0.10      0.07   1000000\n",
      "weighted avg       1.00      0.50      0.67   1000000\n",
      "\n"
     ]
    },
    {
     "name": "stderr",
     "output_type": "stream",
     "text": [
      "/Users/bretttully/opt/anaconda3/lib/python3.8/site-packages/sklearn/metrics/_classification.py:1245: UndefinedMetricWarning: Recall and F-score are ill-defined and being set to 0.0 in labels with no true samples. Use `zero_division` parameter to control this behavior.\n",
      "  _warn_prf(average, modifier, msg_start, len(result))\n"
     ]
    }
   ],
   "source": [
    "print(classification_report(y_pred,y_test)) "
   ]
  },
  {
   "cell_type": "markdown",
   "id": "4e58d938-a484-4e5b-bf9a-aee7d2c26a33",
   "metadata": {},
   "source": [
    "### One Hot Encoding"
   ]
  },
  {
   "cell_type": "code",
   "execution_count": 240,
   "id": "e9c7b14d-a748-473b-ad9c-8ad9ba03e168",
   "metadata": {},
   "outputs": [],
   "source": [
    "XX = poker_train.iloc[:,0:8]\n",
    "yy = poker_train['Poker Hand']\n",
    "\n",
    "transformer = OneHotEncoder().fit(XX)\n",
    "XX = transformer.transform(XX).toarray"
   ]
  },
  {
   "cell_type": "code",
   "execution_count": 241,
   "id": "e5d432c1-0a1b-4920-8002-edd785e1f531",
   "metadata": {},
   "outputs": [
    {
     "data": {
      "text/plain": [
       "<bound method _cs_matrix.toarray of <25010x68 sparse matrix of type '<class 'numpy.float64'>'\n",
       "\twith 200080 stored elements in Compressed Sparse Row format>>"
      ]
     },
     "execution_count": 241,
     "metadata": {},
     "output_type": "execute_result"
    }
   ],
   "source": [
    "XX"
   ]
  },
  {
   "cell_type": "markdown",
   "id": "f9f79acc-acde-492d-a0ef-f4f35329af93",
   "metadata": {},
   "source": [
    "## Logistic Regression"
   ]
  },
  {
   "cell_type": "code",
   "execution_count": 242,
   "id": "faf2a42b-8912-4ad7-a7ae-b4c8c91c34a5",
   "metadata": {},
   "outputs": [],
   "source": [
    "y = poker_train['Poker Hand']"
   ]
  },
  {
   "cell_type": "code",
   "execution_count": 243,
   "id": "192ce276-04f8-4631-8970-7cae8d408502",
   "metadata": {},
   "outputs": [],
   "source": [
    "X = poker_train.iloc[:,:-1]"
   ]
  },
  {
   "cell_type": "code",
   "execution_count": 244,
   "id": "a4a72216-433a-4068-938e-5332fefea5a2",
   "metadata": {},
   "outputs": [],
   "source": [
    "clf = LogisticRegression(random_state=0,max_iter=100000).fit(X,y)\n",
    "y_predict = clf.predict(x_test)"
   ]
  },
  {
   "cell_type": "code",
   "execution_count": 245,
   "id": "05686133-5242-4007-b189-98f08adb79bd",
   "metadata": {},
   "outputs": [
    {
     "data": {
      "text/plain": [
       "array([0, 0, 0, ..., 0, 0, 0])"
      ]
     },
     "execution_count": 245,
     "metadata": {},
     "output_type": "execute_result"
    }
   ],
   "source": [
    "clf.predict(X)"
   ]
  },
  {
   "cell_type": "code",
   "execution_count": 246,
   "id": "bc3ff7e1-88c6-4846-9247-de909241c080",
   "metadata": {},
   "outputs": [
    {
     "data": {
      "text/plain": [
       "0.4995201919232307"
      ]
     },
     "execution_count": 246,
     "metadata": {},
     "output_type": "execute_result"
    }
   ],
   "source": [
    "clf.score(X,y)"
   ]
  },
  {
   "cell_type": "code",
   "execution_count": 247,
   "id": "2d2428ac-705d-4ec5-98de-60b1c803f505",
   "metadata": {},
   "outputs": [
    {
     "data": {
      "text/plain": [
       "0.501294"
      ]
     },
     "execution_count": 247,
     "metadata": {},
     "output_type": "execute_result"
    }
   ],
   "source": [
    "accuracy_score(y_pred,y_test)"
   ]
  },
  {
   "cell_type": "markdown",
   "id": "85e3799c-9056-49fe-8711-a9d41dd487fb",
   "metadata": {},
   "source": [
    "#### A logistic regression model on the training data has an accuracy of .501294 when compared to the test set"
   ]
  },
  {
   "cell_type": "code",
   "execution_count": 248,
   "id": "afbd64ff-eb47-4e2b-99e4-3c4ee336cbc3",
   "metadata": {},
   "outputs": [
    {
     "data": {
      "text/plain": [
       "15574    0\n",
       "17853    0\n",
       "14721    0\n",
       "10676    0\n",
       "13229    1\n",
       "        ..\n",
       "21892    1\n",
       "3613     1\n",
       "22346    0\n",
       "3913     2\n",
       "2440     0\n",
       "Name: Poker Hand, Length: 100, dtype: int64"
      ]
     },
     "execution_count": 248,
     "metadata": {},
     "output_type": "execute_result"
    }
   ],
   "source": [
    "poker_train['Poker Hand'].sample(100)"
   ]
  },
  {
   "cell_type": "code",
   "execution_count": null,
   "id": "f2cc0cad-7cbe-4389-99fd-efa5a3c4de65",
   "metadata": {},
   "outputs": [],
   "source": []
  },
  {
   "cell_type": "code",
   "execution_count": 249,
   "id": "dd99fe7d-0c39-4371-bd36-311dd419299a",
   "metadata": {},
   "outputs": [
    {
     "data": {
      "text/html": [
       "<div>\n",
       "<style scoped>\n",
       "    .dataframe tbody tr th:only-of-type {\n",
       "        vertical-align: middle;\n",
       "    }\n",
       "\n",
       "    .dataframe tbody tr th {\n",
       "        vertical-align: top;\n",
       "    }\n",
       "\n",
       "    .dataframe thead th {\n",
       "        text-align: right;\n",
       "    }\n",
       "</style>\n",
       "<table border=\"1\" class=\"dataframe\">\n",
       "  <thead>\n",
       "    <tr style=\"text-align: right;\">\n",
       "      <th></th>\n",
       "      <th>Suit of Card #1</th>\n",
       "      <th>Rank of Card #1</th>\n",
       "      <th>Suit of Card #2</th>\n",
       "      <th>Rank of Card #2</th>\n",
       "      <th>Suit of Card #3</th>\n",
       "      <th>Rank of Card #3</th>\n",
       "      <th>Suit of Card #4</th>\n",
       "      <th>Rank of Card #4</th>\n",
       "      <th>Suit of Card #5</th>\n",
       "      <th>Rank of Card #5</th>\n",
       "      <th>Poker Hand</th>\n",
       "    </tr>\n",
       "  </thead>\n",
       "  <tbody>\n",
       "    <tr>\n",
       "      <th>0</th>\n",
       "      <td>1</td>\n",
       "      <td>1</td>\n",
       "      <td>1</td>\n",
       "      <td>13</td>\n",
       "      <td>2</td>\n",
       "      <td>4</td>\n",
       "      <td>2</td>\n",
       "      <td>3</td>\n",
       "      <td>1</td>\n",
       "      <td>12</td>\n",
       "      <td>0</td>\n",
       "    </tr>\n",
       "    <tr>\n",
       "      <th>1</th>\n",
       "      <td>3</td>\n",
       "      <td>12</td>\n",
       "      <td>3</td>\n",
       "      <td>2</td>\n",
       "      <td>3</td>\n",
       "      <td>11</td>\n",
       "      <td>4</td>\n",
       "      <td>5</td>\n",
       "      <td>2</td>\n",
       "      <td>5</td>\n",
       "      <td>1</td>\n",
       "    </tr>\n",
       "    <tr>\n",
       "      <th>2</th>\n",
       "      <td>1</td>\n",
       "      <td>9</td>\n",
       "      <td>4</td>\n",
       "      <td>6</td>\n",
       "      <td>1</td>\n",
       "      <td>4</td>\n",
       "      <td>3</td>\n",
       "      <td>2</td>\n",
       "      <td>3</td>\n",
       "      <td>9</td>\n",
       "      <td>1</td>\n",
       "    </tr>\n",
       "    <tr>\n",
       "      <th>3</th>\n",
       "      <td>1</td>\n",
       "      <td>4</td>\n",
       "      <td>3</td>\n",
       "      <td>13</td>\n",
       "      <td>2</td>\n",
       "      <td>13</td>\n",
       "      <td>2</td>\n",
       "      <td>1</td>\n",
       "      <td>3</td>\n",
       "      <td>6</td>\n",
       "      <td>1</td>\n",
       "    </tr>\n",
       "    <tr>\n",
       "      <th>4</th>\n",
       "      <td>3</td>\n",
       "      <td>10</td>\n",
       "      <td>2</td>\n",
       "      <td>7</td>\n",
       "      <td>1</td>\n",
       "      <td>2</td>\n",
       "      <td>2</td>\n",
       "      <td>11</td>\n",
       "      <td>4</td>\n",
       "      <td>9</td>\n",
       "      <td>0</td>\n",
       "    </tr>\n",
       "    <tr>\n",
       "      <th>...</th>\n",
       "      <td>...</td>\n",
       "      <td>...</td>\n",
       "      <td>...</td>\n",
       "      <td>...</td>\n",
       "      <td>...</td>\n",
       "      <td>...</td>\n",
       "      <td>...</td>\n",
       "      <td>...</td>\n",
       "      <td>...</td>\n",
       "      <td>...</td>\n",
       "      <td>...</td>\n",
       "    </tr>\n",
       "    <tr>\n",
       "      <th>999995</th>\n",
       "      <td>3</td>\n",
       "      <td>1</td>\n",
       "      <td>1</td>\n",
       "      <td>12</td>\n",
       "      <td>2</td>\n",
       "      <td>9</td>\n",
       "      <td>4</td>\n",
       "      <td>9</td>\n",
       "      <td>2</td>\n",
       "      <td>6</td>\n",
       "      <td>1</td>\n",
       "    </tr>\n",
       "    <tr>\n",
       "      <th>999996</th>\n",
       "      <td>3</td>\n",
       "      <td>3</td>\n",
       "      <td>4</td>\n",
       "      <td>5</td>\n",
       "      <td>2</td>\n",
       "      <td>7</td>\n",
       "      <td>1</td>\n",
       "      <td>4</td>\n",
       "      <td>4</td>\n",
       "      <td>3</td>\n",
       "      <td>1</td>\n",
       "    </tr>\n",
       "    <tr>\n",
       "      <th>999997</th>\n",
       "      <td>1</td>\n",
       "      <td>11</td>\n",
       "      <td>4</td>\n",
       "      <td>7</td>\n",
       "      <td>3</td>\n",
       "      <td>9</td>\n",
       "      <td>1</td>\n",
       "      <td>13</td>\n",
       "      <td>2</td>\n",
       "      <td>7</td>\n",
       "      <td>1</td>\n",
       "    </tr>\n",
       "    <tr>\n",
       "      <th>999998</th>\n",
       "      <td>3</td>\n",
       "      <td>11</td>\n",
       "      <td>1</td>\n",
       "      <td>8</td>\n",
       "      <td>1</td>\n",
       "      <td>1</td>\n",
       "      <td>3</td>\n",
       "      <td>13</td>\n",
       "      <td>2</td>\n",
       "      <td>8</td>\n",
       "      <td>1</td>\n",
       "    </tr>\n",
       "    <tr>\n",
       "      <th>999999</th>\n",
       "      <td>2</td>\n",
       "      <td>5</td>\n",
       "      <td>2</td>\n",
       "      <td>9</td>\n",
       "      <td>4</td>\n",
       "      <td>9</td>\n",
       "      <td>2</td>\n",
       "      <td>3</td>\n",
       "      <td>3</td>\n",
       "      <td>3</td>\n",
       "      <td>2</td>\n",
       "    </tr>\n",
       "  </tbody>\n",
       "</table>\n",
       "<p>1000000 rows × 11 columns</p>\n",
       "</div>"
      ],
      "text/plain": [
       "        Suit of Card #1  Rank of Card #1  Suit of Card #2  Rank of Card #2  \\\n",
       "0                     1                1                1               13   \n",
       "1                     3               12                3                2   \n",
       "2                     1                9                4                6   \n",
       "3                     1                4                3               13   \n",
       "4                     3               10                2                7   \n",
       "...                 ...              ...              ...              ...   \n",
       "999995                3                1                1               12   \n",
       "999996                3                3                4                5   \n",
       "999997                1               11                4                7   \n",
       "999998                3               11                1                8   \n",
       "999999                2                5                2                9   \n",
       "\n",
       "        Suit of Card #3  Rank of Card #3  Suit of Card #4  Rank of Card #4  \\\n",
       "0                     2                4                2                3   \n",
       "1                     3               11                4                5   \n",
       "2                     1                4                3                2   \n",
       "3                     2               13                2                1   \n",
       "4                     1                2                2               11   \n",
       "...                 ...              ...              ...              ...   \n",
       "999995                2                9                4                9   \n",
       "999996                2                7                1                4   \n",
       "999997                3                9                1               13   \n",
       "999998                1                1                3               13   \n",
       "999999                4                9                2                3   \n",
       "\n",
       "        Suit of Card #5  Rank of Card #5  Poker Hand  \n",
       "0                     1               12           0  \n",
       "1                     2                5           1  \n",
       "2                     3                9           1  \n",
       "3                     3                6           1  \n",
       "4                     4                9           0  \n",
       "...                 ...              ...         ...  \n",
       "999995                2                6           1  \n",
       "999996                4                3           1  \n",
       "999997                2                7           1  \n",
       "999998                2                8           1  \n",
       "999999                3                3           2  \n",
       "\n",
       "[1000000 rows x 11 columns]"
      ]
     },
     "execution_count": 249,
     "metadata": {},
     "output_type": "execute_result"
    }
   ],
   "source": [
    "poker_test"
   ]
  },
  {
   "cell_type": "code",
   "execution_count": 250,
   "id": "e5d6e8b4-2cb5-42e4-a8f3-48bd8779bf7f",
   "metadata": {},
   "outputs": [
    {
     "data": {
      "text/plain": [
       "0.501209"
      ]
     },
     "execution_count": 250,
     "metadata": {},
     "output_type": "execute_result"
    }
   ],
   "source": [
    "from sklearn.linear_model import LogisticRegression\n",
    "from sklearn.metrics import accuracy_score\n",
    "clf = LogisticRegression(random_state=0, solver='lbfgs',max_iter=100,multi_class='ovr').fit(x_train, y_train)\n",
    "y_pred=clf.predict(x_test)\n",
    "accuracy_score(y_pred,y_test)"
   ]
  },
  {
   "cell_type": "code",
   "execution_count": null,
   "id": "1819094d-481a-408c-81c5-043061f65a35",
   "metadata": {},
   "outputs": [],
   "source": []
  },
  {
   "cell_type": "code",
   "execution_count": 251,
   "id": "99856c98-d985-456f-9d1a-51b25bb6bff4",
   "metadata": {},
   "outputs": [],
   "source": [
    "trainX = poker_train.iloc[:,0:10] # Features\n",
    "trainy = poker_train.iloc[:,10:11] # Target variable\n",
    "testX = poker_test.iloc[:,0:10] # Features\n",
    "testy = poker_test.iloc[:,10:11] # Target variable\n"
   ]
  },
  {
   "cell_type": "code",
   "execution_count": 252,
   "id": "8c874dd0-9afe-488c-9154-d66ba78b2658",
   "metadata": {},
   "outputs": [
    {
     "data": {
      "text/plain": [
       "array([0, 0, 1, ..., 1, 1, 0])"
      ]
     },
     "execution_count": 252,
     "metadata": {},
     "output_type": "execute_result"
    }
   ],
   "source": [
    "from sklearn.tree import DecisionTreeClassifier\n",
    "clf = DecisionTreeClassifier()\n",
    "clf = clf.fit(trainX,trainy)\n",
    "clf\n",
    "y_pred = clf.predict(testX)\n",
    "y_pred"
   ]
  },
  {
   "cell_type": "code",
   "execution_count": 253,
   "id": "0ee446e2-4620-422f-b602-43fa4ed44044",
   "metadata": {},
   "outputs": [
    {
     "name": "stdout",
     "output_type": "stream",
     "text": [
      "Accuracy: 0.480343\n"
     ]
    }
   ],
   "source": [
    "from sklearn import metrics\n",
    "print(\"Accuracy:\",metrics.accuracy_score(testy, y_pred))"
   ]
  },
  {
   "cell_type": "code",
   "execution_count": 256,
   "id": "a1d31cd5-bc8b-4f67-83bd-8aadc70dfff6",
   "metadata": {},
   "outputs": [],
   "source": [
    "from sklearn.ensemble import RandomForestClassifier\n"
   ]
  },
  {
   "cell_type": "code",
   "execution_count": null,
   "id": "1f2fa32a-331a-43b8-8326-2223ff7fe006",
   "metadata": {},
   "outputs": [],
   "source": []
  },
  {
   "cell_type": "markdown",
   "id": "9bf7803d-9b5b-4ae3-83da-c50599f2b508",
   "metadata": {},
   "source": [
    "# Jack look under here"
   ]
  },
  {
   "cell_type": "code",
   "execution_count": 263,
   "id": "eaeea104-8f35-4153-86f5-8e75f192fac5",
   "metadata": {},
   "outputs": [
    {
     "data": {
      "text/plain": [
       "Poker Hand\n",
       "0    12493\n",
       "1    10599\n",
       "2     1206\n",
       "3      513\n",
       "4       93\n",
       "5       54\n",
       "6       36\n",
       "7        6\n",
       "8        5\n",
       "9        5\n",
       "dtype: int64"
      ]
     },
     "execution_count": 263,
     "metadata": {},
     "output_type": "execute_result"
    }
   ],
   "source": [
    "poker_train.groupby('Poker Hand').size()"
   ]
  },
  {
   "cell_type": "code",
   "execution_count": 267,
   "id": "ec760bc7-1f01-4f06-afd2-07228249f2e8",
   "metadata": {},
   "outputs": [],
   "source": [
    "poker_train['Poker Hand']=poker_train['Poker Hand'].replace({0:'Nothing in Hand', \n",
    "1: 'One pair',\n",
    "2: 'Two pairs',\n",
    "3: 'Three of a kind',\n",
    "4: 'Straight',\n",
    "5: 'Flush',\n",
    "6: 'Full house',\n",
    "7: 'Four of a kind',\n",
    "8: 'Straight flush',\n",
    "9: 'Royal flush'})"
   ]
  },
  {
   "cell_type": "code",
   "execution_count": 268,
   "id": "634d813c-2875-45d7-bd2b-b292cc72bc5c",
   "metadata": {},
   "outputs": [
    {
     "data": {
      "text/plain": [
       "0            Royal flush\n",
       "1            Royal flush\n",
       "2            Royal flush\n",
       "3            Royal flush\n",
       "4            Royal flush\n",
       "              ...       \n",
       "25005    Nothing in Hand\n",
       "25006           One pair\n",
       "25007           One pair\n",
       "25008           One pair\n",
       "25009           One pair\n",
       "Name: Poker Hand, Length: 25010, dtype: object"
      ]
     },
     "execution_count": 268,
     "metadata": {},
     "output_type": "execute_result"
    }
   ],
   "source": [
    "poker_train[\"Poker Hand\"]"
   ]
  },
  {
   "cell_type": "code",
   "execution_count": null,
   "id": "1ceceed8-90f3-46dc-80e9-c29ece92c241",
   "metadata": {},
   "outputs": [],
   "source": []
  },
  {
   "cell_type": "code",
   "execution_count": null,
   "id": "4c3f8f12-60f6-4c95-9b28-78fc4c273159",
   "metadata": {},
   "outputs": [],
   "source": []
  },
  {
   "cell_type": "code",
   "execution_count": null,
   "id": "61541663-da19-424d-8f11-e827f89d6f23",
   "metadata": {},
   "outputs": [],
   "source": []
  },
  {
   "cell_type": "code",
   "execution_count": null,
   "id": "9df323e4-8524-4091-9a76-20aaa4d4112d",
   "metadata": {},
   "outputs": [],
   "source": []
  },
  {
   "cell_type": "code",
   "execution_count": null,
   "id": "69cbf70c-2695-4804-a08d-a1366fbd5295",
   "metadata": {},
   "outputs": [],
   "source": []
  },
  {
   "cell_type": "code",
   "execution_count": null,
   "id": "210f0856-0f68-4fa2-b460-1e14e171c75b",
   "metadata": {},
   "outputs": [],
   "source": []
  },
  {
   "cell_type": "code",
   "execution_count": null,
   "id": "087e444b-0689-4943-923c-692906dac1d0",
   "metadata": {},
   "outputs": [],
   "source": []
  },
  {
   "cell_type": "code",
   "execution_count": null,
   "id": "0c843d44-bb1a-44d3-a4c4-1960dd71e23c",
   "metadata": {},
   "outputs": [],
   "source": []
  },
  {
   "cell_type": "code",
   "execution_count": null,
   "id": "d39b14ad-74e7-4b52-a7bd-f056c9ca755a",
   "metadata": {},
   "outputs": [],
   "source": []
  },
  {
   "cell_type": "code",
   "execution_count": null,
   "id": "90df978a-e0c6-44b4-add4-666b5be56138",
   "metadata": {},
   "outputs": [],
   "source": []
  },
  {
   "cell_type": "code",
   "execution_count": null,
   "id": "54f864cd-0dbd-4bd2-85f3-8ce640185426",
   "metadata": {},
   "outputs": [],
   "source": []
  },
  {
   "cell_type": "code",
   "execution_count": null,
   "id": "53944c6f-3c5f-477b-b3c6-c617985f2baa",
   "metadata": {},
   "outputs": [],
   "source": [
    "train_array = poker_test.values"
   ]
  },
  {
   "cell_type": "code",
   "execution_count": null,
   "id": "addc3fb1-eecf-4469-9a30-e3debb2eeb4d",
   "metadata": {},
   "outputs": [],
   "source": [
    "#Split Values\n",
    "train_array = poker_train.values\n",
    "X_train = train_array[:,:-1]\n",
    "y_train = train_array[:,-1]"
   ]
  },
  {
   "cell_type": "code",
   "execution_count": null,
   "id": "7640a054-93c8-4b4e-a421-7218e9811f94",
   "metadata": {},
   "outputs": [],
   "source": [
    "test_array = poker_test.values\n",
    "X_test = test_array[:,:-1]\n",
    "y_test = test_array[:,-1]"
   ]
  },
  {
   "cell_type": "code",
   "execution_count": null,
   "id": "73dc984b-ea2b-47c4-8909-be13f092d9c6",
   "metadata": {},
   "outputs": [],
   "source": [
    "model = DecisionTreeClassifier()\n",
    "model.fit(X_train,y_train)\n",
    "predictions = model.predict(X_test)\n",
    "print('Accuracy score ', accuracy_score(y_test,predictions))"
   ]
  },
  {
   "cell_type": "code",
   "execution_count": null,
   "id": "71019a57-c5ae-40fb-ab54-8349ca27f649",
   "metadata": {},
   "outputs": [],
   "source": [
    "model = RandomForestClassifier(n_estimators = 100)\n",
    "model.fit(X_train,y_train)\n",
    "predictions = model.predict(X_test)\n",
    "print('Accuracy score ',accuracy_score(y_test,predictions))"
   ]
  },
  {
   "cell_type": "code",
   "execution_count": null,
   "id": "0f6848c0-9233-42e0-b3fa-d84a9ded7032",
   "metadata": {},
   "outputs": [],
   "source": [
    "logreg = LogisticRegression()\n",
    "logreg.fit(X_train, y_test)"
   ]
  },
  {
   "cell_type": "code",
   "execution_count": null,
   "id": "4ddad14b-a67b-4935-975f-6f49f85ab9b5",
   "metadata": {},
   "outputs": [],
   "source": [
    "y_pred= logreg.predict(X_test)"
   ]
  },
  {
   "cell_type": "code",
   "execution_count": null,
   "id": "c66ad5b7-1db9-48dd-a165-b98672ede6ca",
   "metadata": {},
   "outputs": [],
   "source": [
    "print('Accuracy of logistic regression classifier on test set: {:.2f}'.format(logreg.score(X_test, y_test)))"
   ]
  },
  {
   "cell_type": "code",
   "execution_count": null,
   "id": "3d65d930-fead-470d-ba5c-3a514ecf9c69",
   "metadata": {},
   "outputs": [],
   "source": [
    "def plot_cm(y_pred, y_test):\n",
    "    cm = confusion_matrix(y_pred, y_test)\n",
    "    fig = plt.figure(figsize=(5,5))\n",
    "    heatmap = sns.heatmap(cm, annot=True, fmt='.2f', cmap='RdYlGn')\n",
    "    plt.ylabel('True label')\n",
    "    plt.xlabel('Predicted Label')"
   ]
  },
  {
   "cell_type": "code",
   "execution_count": null,
   "id": "4918e61f-759a-4254-a165-a59aad8a36cd",
   "metadata": {},
   "outputs": [],
   "source": [
    "clf = MultinomialNB()\n",
    "clf.fit(X_train,y_train) \n",
    "y_pred = clf.predict(X_test)"
   ]
  },
  {
   "cell_type": "code",
   "execution_count": null,
   "id": "00fb5282-0cec-4070-9eb3-a4593f138bf1",
   "metadata": {},
   "outputs": [],
   "source": [
    "plot_cm(y_pred,y_test)"
   ]
  },
  {
   "cell_type": "code",
   "execution_count": null,
   "id": "cd43765f-72f5-4f6b-b782-4f84101e6a6c",
   "metadata": {},
   "outputs": [],
   "source": [
    "poker_test = poker_test.to_numpy()\n",
    "poker_train = poker_train.to_numpy()\n",
    "poker_test"
   ]
  },
  {
   "cell_type": "code",
   "execution_count": null,
   "id": "a7ca2605-9b04-4338-a0e5-3c6b28ef5de2",
   "metadata": {},
   "outputs": [],
   "source": []
  },
  {
   "cell_type": "code",
   "execution_count": null,
   "id": "6aa815a2-0dae-4d29-860c-2723afb299e1",
   "metadata": {},
   "outputs": [],
   "source": []
  },
  {
   "cell_type": "code",
   "execution_count": null,
   "id": "d219020e-d73c-448f-8743-19b68ab3674d",
   "metadata": {},
   "outputs": [],
   "source": [
    "print (class_counts(poker_train))\n",
    "\n"
   ]
  },
  {
   "cell_type": "code",
   "execution_count": null,
   "id": "82739a36-cf3a-4ba1-8624-1acda2a33dc4",
   "metadata": {},
   "outputs": [],
   "source": []
  },
  {
   "cell_type": "code",
   "execution_count": null,
   "id": "b7161371-3581-4a57-a555-f4e78558dd86",
   "metadata": {},
   "outputs": [],
   "source": []
  },
  {
   "cell_type": "code",
   "execution_count": null,
   "id": "a6d7571c-cb10-437f-bb9c-388d5d9e2d9a",
   "metadata": {},
   "outputs": [],
   "source": []
  },
  {
   "cell_type": "code",
   "execution_count": null,
   "id": "b00b4456-8b20-41e3-b270-29355fe160f1",
   "metadata": {},
   "outputs": [],
   "source": []
  }
 ],
 "metadata": {
  "kernelspec": {
   "display_name": "Python 3",
   "language": "python",
   "name": "python3"
  },
  "language_info": {
   "codemirror_mode": {
    "name": "ipython",
    "version": 3
   },
   "file_extension": ".py",
   "mimetype": "text/x-python",
   "name": "python",
   "nbconvert_exporter": "python",
   "pygments_lexer": "ipython3",
   "version": "3.8.8"
  }
 },
 "nbformat": 4,
 "nbformat_minor": 5
}
