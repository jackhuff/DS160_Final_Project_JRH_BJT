{
 "cells": [
  {
   "cell_type": "markdown",
   "id": "bfdf24e7-5719-4b8a-a93a-40aa6f9dc0bf",
   "metadata": {},
   "source": [
    "# DS160_Final_Project_JRH_BJT\n",
    "\n",
    "# File Name: DS160_Final_Project_JRH_BJT\n",
    "## Author: Brett Tully & Jack Hall\n",
    "### Python 3 \n",
    "#### Class: DS-160-01\n",
    "##### Semester: Spring '22"
   ]
  },
  {
   "cell_type": "markdown",
   "id": "e333b559-8b3a-4261-85a2-ad749eff0a0f",
   "metadata": {},
   "source": [
    "## Poker Hands Data Set"
   ]
  },
  {
   "cell_type": "markdown",
   "id": "b55eadbb-f3ec-4a37-9def-da185cdb5138",
   "metadata": {},
   "source": [
    "##### Each row contains 10 numerical values and 1 ordinal value. Each row represents a poker hand consisting of 5 cards randomly drawn from a standard deck of 52 cards. Each card is represented by 2 columns: one denoting the rank of the card (Ace, 2, 3... Jack, Queen, King) and the other denoting the suit of the card (Hearts, Spades, Diamonds, Clubs). The order of the cards (columns 1-10) is important in determining a poker hand(column 11).\n",
    "  \n",
    "#### The rank of the card will be a numerical value where 1-13 represents Ace, 2, 3... Jack, Queen, King\n",
    "#### The suit of each card will be a numericl value where 1-4 represents Hearts, Spades, Diamonds, Clubs\n",
    "\n",
    "#### The final column is the poker hand. It will be a Ordinal value where 0-9 represents:\n",
    "   ######   0: Nothing in hand; not a recognized poker hand \n",
    "   ######   1: One pair; one pair of equal ranks within five cards\n",
    "   ######   2: Two pairs; two pairs of equal ranks within five cards\n",
    "   ######   3: Three of a kind; three equal ranks within five cards\n",
    "   ######   4: Straight; five cards, sequentially ranked with no gaps\n",
    "   ######   5: Flush; five cards with the same suit\n",
    "   ######   6: Full house; pair + different rank three of a kind\n",
    "   ######   7: Four of a kind; four equal ranks within five cards\n",
    "   ######   8: Straight flush; straight + flush\n",
    "   ######   9: Royal flush; {Ace, King, Queen, Jack, Ten} + flush"
   ]
  },
  {
   "cell_type": "code",
   "execution_count": 740,
   "id": "6f4f3031-4b66-41f5-bdae-fc7a888d729f",
   "metadata": {},
   "outputs": [],
   "source": [
    "import pandas as pd\n",
    "import matplotlib.pyplot as plt\n",
    "import numpy as np\n",
    "import seaborn as sns\n",
    "%matplotlib inline\n",
    "from sklearn.model_selection import train_test_split \n",
    "from sklearn.preprocessing import OneHotEncoder\n",
    "from sklearn.linear_model import LogisticRegression\n",
    "from sklearn.naive_bayes import GaussianNB, MultinomialNB, ComplementNB, BernoulliNB\n",
    "\n",
    "from sklearn.tree import DecisionTreeClassifier\n",
    "from sklearn.neighbors import KNeighborsClassifier\n",
    "\n",
    "from sklearn.svm import SVC\n",
    "\n",
    "\n",
    "from sklearn import tree\n",
    "from sklearn.tree import export_text\n",
    "import graphviz\n",
    "from sklearn.ensemble import RandomForestClassifier\n",
    "\n",
    "from sklearn.metrics import accuracy_score, confusion_matrix, classification_report"
   ]
  },
  {
   "cell_type": "code",
   "execution_count": 742,
   "id": "25255d15-8b5b-41ea-8aa3-e31810bd202b",
   "metadata": {},
   "outputs": [],
   "source": [
    "# reading the data files\n",
    "poker_train = pd.read_csv('poker-hand-training-true.data', header=None)\n",
    "poker_test = pd.read_csv('poker-hand-testing.data', header=None)"
   ]
  },
  {
   "cell_type": "code",
   "execution_count": 743,
   "id": "85cd9299-2ab3-4a1b-b5e0-824ec0a568e6",
   "metadata": {},
   "outputs": [
    {
     "data": {
      "text/plain": [
       "Int64Index([0, 1, 2, 3, 4, 5, 6, 7, 8, 9, 10], dtype='int64')"
      ]
     },
     "execution_count": 743,
     "metadata": {},
     "output_type": "execute_result"
    }
   ],
   "source": [
    "poker_train.columns"
   ]
  },
  {
   "cell_type": "markdown",
   "id": "ba73e3da-1829-4863-9d87-8abfab39a6a0",
   "metadata": {},
   "source": [
    "#### It appears that our data set does not have columns names. Each column represents a suit and rank of a specific card, and the last column represents the type of poker hand. We need to assign proper column names. "
   ]
  },
  {
   "cell_type": "code",
   "execution_count": 744,
   "id": "3904a21d-501d-469b-b2c7-b2500ebfe7d8",
   "metadata": {},
   "outputs": [],
   "source": [
    "colnames = ['Suit of Card #1', 'Rank of Card #1',\n",
    "       'Suit of Card #2', 'Rank of Card #2',\n",
    "       'Suit of Card #3', 'Rank of Card #3', \n",
    "       'Suit of Card #4', 'Rank of Card #4',\n",
    "       'Suit of Card #5', 'Rank of Card #5', 'Poker Hand'\n",
    "      ]"
   ]
  },
  {
   "cell_type": "markdown",
   "id": "6a8d7bc1-24e1-42da-92fd-fb1df46d960d",
   "metadata": {},
   "source": [
    "#### Defining what our columns will be named: this is based off what each number represents in our data. "
   ]
  },
  {
   "cell_type": "code",
   "execution_count": 745,
   "id": "5154fdc0-189a-42d5-ac3c-54762dda6556",
   "metadata": {},
   "outputs": [],
   "source": [
    "poker_test.columns = colnames\n",
    "poker_train.columns = colnames"
   ]
  },
  {
   "cell_type": "markdown",
   "id": "d986f016-f364-4d1c-8911-883a8ec066a9",
   "metadata": {},
   "source": [
    "#### Assinging the new column names to our datasets"
   ]
  },
  {
   "cell_type": "code",
   "execution_count": 649,
   "id": "17ae6575-84f2-4048-8c65-f6ca1970d623",
   "metadata": {},
   "outputs": [
    {
     "data": {
      "text/html": [
       "<div>\n",
       "<style scoped>\n",
       "    .dataframe tbody tr th:only-of-type {\n",
       "        vertical-align: middle;\n",
       "    }\n",
       "\n",
       "    .dataframe tbody tr th {\n",
       "        vertical-align: top;\n",
       "    }\n",
       "\n",
       "    .dataframe thead th {\n",
       "        text-align: right;\n",
       "    }\n",
       "</style>\n",
       "<table border=\"1\" class=\"dataframe\">\n",
       "  <thead>\n",
       "    <tr style=\"text-align: right;\">\n",
       "      <th></th>\n",
       "      <th>Suit of Card #1</th>\n",
       "      <th>Rank of Card #1</th>\n",
       "      <th>Suit of Card #2</th>\n",
       "      <th>Rank of Card #2</th>\n",
       "      <th>Suit of Card #3</th>\n",
       "      <th>Rank of Card #3</th>\n",
       "      <th>Suit of Card #4</th>\n",
       "      <th>Rank of Card #4</th>\n",
       "      <th>Suit of Card #5</th>\n",
       "      <th>Rank of Card #5</th>\n",
       "      <th>Poker Hand</th>\n",
       "    </tr>\n",
       "  </thead>\n",
       "  <tbody>\n",
       "    <tr>\n",
       "      <th>0</th>\n",
       "      <td>1</td>\n",
       "      <td>10</td>\n",
       "      <td>1</td>\n",
       "      <td>11</td>\n",
       "      <td>1</td>\n",
       "      <td>13</td>\n",
       "      <td>1</td>\n",
       "      <td>12</td>\n",
       "      <td>1</td>\n",
       "      <td>1</td>\n",
       "      <td>9</td>\n",
       "    </tr>\n",
       "    <tr>\n",
       "      <th>1</th>\n",
       "      <td>2</td>\n",
       "      <td>11</td>\n",
       "      <td>2</td>\n",
       "      <td>13</td>\n",
       "      <td>2</td>\n",
       "      <td>10</td>\n",
       "      <td>2</td>\n",
       "      <td>12</td>\n",
       "      <td>2</td>\n",
       "      <td>1</td>\n",
       "      <td>9</td>\n",
       "    </tr>\n",
       "    <tr>\n",
       "      <th>2</th>\n",
       "      <td>3</td>\n",
       "      <td>12</td>\n",
       "      <td>3</td>\n",
       "      <td>11</td>\n",
       "      <td>3</td>\n",
       "      <td>13</td>\n",
       "      <td>3</td>\n",
       "      <td>10</td>\n",
       "      <td>3</td>\n",
       "      <td>1</td>\n",
       "      <td>9</td>\n",
       "    </tr>\n",
       "    <tr>\n",
       "      <th>3</th>\n",
       "      <td>4</td>\n",
       "      <td>10</td>\n",
       "      <td>4</td>\n",
       "      <td>11</td>\n",
       "      <td>4</td>\n",
       "      <td>1</td>\n",
       "      <td>4</td>\n",
       "      <td>13</td>\n",
       "      <td>4</td>\n",
       "      <td>12</td>\n",
       "      <td>9</td>\n",
       "    </tr>\n",
       "    <tr>\n",
       "      <th>4</th>\n",
       "      <td>4</td>\n",
       "      <td>1</td>\n",
       "      <td>4</td>\n",
       "      <td>13</td>\n",
       "      <td>4</td>\n",
       "      <td>12</td>\n",
       "      <td>4</td>\n",
       "      <td>11</td>\n",
       "      <td>4</td>\n",
       "      <td>10</td>\n",
       "      <td>9</td>\n",
       "    </tr>\n",
       "  </tbody>\n",
       "</table>\n",
       "</div>"
      ],
      "text/plain": [
       "   Suit of Card #1  Rank of Card #1  Suit of Card #2  Rank of Card #2  \\\n",
       "0                1               10                1               11   \n",
       "1                2               11                2               13   \n",
       "2                3               12                3               11   \n",
       "3                4               10                4               11   \n",
       "4                4                1                4               13   \n",
       "\n",
       "   Suit of Card #3  Rank of Card #3  Suit of Card #4  Rank of Card #4  \\\n",
       "0                1               13                1               12   \n",
       "1                2               10                2               12   \n",
       "2                3               13                3               10   \n",
       "3                4                1                4               13   \n",
       "4                4               12                4               11   \n",
       "\n",
       "   Suit of Card #5  Rank of Card #5  Poker Hand  \n",
       "0                1                1           9  \n",
       "1                2                1           9  \n",
       "2                3                1           9  \n",
       "3                4               12           9  \n",
       "4                4               10           9  "
      ]
     },
     "execution_count": 649,
     "metadata": {},
     "output_type": "execute_result"
    }
   ],
   "source": [
    "poker_train.head()"
   ]
  },
  {
   "cell_type": "markdown",
   "id": "f87090e3-d8eb-426e-aee8-1a87638fe127",
   "metadata": {},
   "source": [
    "#### Checking to make sure that our column names were applied correctly. Looks good "
   ]
  },
  {
   "cell_type": "code",
   "execution_count": 650,
   "id": "2b218d09-a792-462d-a899-e284b430dc2b",
   "metadata": {},
   "outputs": [
    {
     "data": {
      "text/plain": [
       "(25010, 11)"
      ]
     },
     "execution_count": 650,
     "metadata": {},
     "output_type": "execute_result"
    }
   ],
   "source": [
    "poker_train.shape"
   ]
  },
  {
   "cell_type": "markdown",
   "id": "1f0ad27b-ccb1-4244-989e-ddf2bf29170d",
   "metadata": {},
   "source": [
    "#### Checking how many rows and columns we have in the training set. The description of the data says we should have 25,010 instances. Looks good"
   ]
  },
  {
   "cell_type": "code",
   "execution_count": 651,
   "id": "53f91036-73fb-46eb-b27d-54e92c7f6bf7",
   "metadata": {},
   "outputs": [
    {
     "data": {
      "text/plain": [
       "(1000000, 11)"
      ]
     },
     "execution_count": 651,
     "metadata": {},
     "output_type": "execute_result"
    }
   ],
   "source": [
    "poker_test.shape"
   ]
  },
  {
   "cell_type": "markdown",
   "id": "746bd16a-4528-456f-a2c0-fbc7649e74fa",
   "metadata": {},
   "source": [
    "#### Again, checking how many rows and columns we have. The description of the data says we should have 1,000,000 instances in this set. Looks good"
   ]
  },
  {
   "cell_type": "code",
   "execution_count": 652,
   "id": "0e87c7bb-50af-4207-b8b6-91122c7e00d4",
   "metadata": {},
   "outputs": [
    {
     "data": {
      "text/plain": [
       "0    12493\n",
       "1    10599\n",
       "2     1206\n",
       "3      513\n",
       "4       93\n",
       "5       54\n",
       "6       36\n",
       "7        6\n",
       "8        5\n",
       "9        5\n",
       "Name: Poker Hand, dtype: int64"
      ]
     },
     "execution_count": 652,
     "metadata": {},
     "output_type": "execute_result"
    }
   ],
   "source": [
    "poker_train['Poker Hand'].value_counts()"
   ]
  },
  {
   "cell_type": "markdown",
   "id": "7e281b2f-d6cb-419f-95c3-4584728e5efd",
   "metadata": {},
   "source": [
    "#### Checking how many times each specific poker hand occurs in the training set"
   ]
  },
  {
   "cell_type": "code",
   "execution_count": 582,
   "id": "ab971477-05d6-45c3-826c-c390686245bb",
   "metadata": {},
   "outputs": [
    {
     "data": {
      "text/plain": [
       "0    501209\n",
       "1    422498\n",
       "2     47622\n",
       "3     21121\n",
       "4      3885\n",
       "5      1996\n",
       "6      1424\n",
       "7       230\n",
       "8        12\n",
       "9         3\n",
       "Name: Poker Hand, dtype: int64"
      ]
     },
     "execution_count": 582,
     "metadata": {},
     "output_type": "execute_result"
    }
   ],
   "source": [
    "poker_test['Poker Hand'].value_counts()"
   ]
  },
  {
   "cell_type": "markdown",
   "id": "fcf1a121-6887-4cb7-a822-83fc638a8de5",
   "metadata": {},
   "source": [
    "#### Checking how many times each specific poker hand occurs in the test set. Note that there are more royal flushs(9) in the training set than the test set, even though the test set contains 1,000,000 samples compared to the training set having 25,010"
   ]
  },
  {
   "cell_type": "markdown",
   "id": "8b32dacd-da4a-4ada-8658-abc0a8f49d78",
   "metadata": {},
   "source": [
    "##### the description of our data tells us that in the training set, \"The Straight flush and Royal flush hands are not as representative of the true domain because they have been over-sampled. The Straight flush is 14.43 times more likely to occur in the training set, while the Royal flush is 129.82 times more likely.\""
   ]
  },
  {
   "cell_type": "code",
   "execution_count": 586,
   "id": "1314691c-2d8d-4db7-aa20-79756202627c",
   "metadata": {},
   "outputs": [
    {
     "data": {
      "image/png": "[encoded data removed]",
      "text/plain": [
       "<Figure size 432x288 with 1 Axes>"
      ]
     },
     "metadata": {
      "needs_background": "light"
     },
     "output_type": "display_data"
    }
   ],
   "source": [
    "hands = ['0','1','2','3','4','5','6','7','8','9']\n",
    "instances = [12493, 10599, 1206, 513, 93, 54, 36, 6, 5, 5]\n",
    "\n",
    "plt.bar(hands,instances)\n",
    "plt.title('Occurance of Poker Hands in Training Set')\n",
    "plt.xlabel('Poker Hands')\n",
    "plt.ylabel('Occurances')\n",
    "plt.show()"
   ]
  },
  {
   "cell_type": "markdown",
   "id": "85c2295a-7384-4e1f-a241-f9a65afcf892",
   "metadata": {},
   "source": [
    "#### a quick bar chart of the training set shows us that the distribution of poker hands is clearly disproportionate with nothing in hand(0) and one pair(1) being the most common by far"
   ]
  },
  {
   "cell_type": "code",
   "execution_count": 587,
   "id": "4131f0ad-59a0-47c4-9fc1-089176e0b227",
   "metadata": {},
   "outputs": [
    {
     "data": {
      "image/png": "[encoded data removed]",
      "text/plain": [
       "<Figure size 432x288 with 1 Axes>"
      ]
     },
     "metadata": {
      "needs_background": "light"
     },
     "output_type": "display_data"
    }
   ],
   "source": [
    "hands = ['0','1','2','3','4','5','6','7','8','9']\n",
    "instances = [501209, 422498, 47622, 21121, 3885, 1996, 1424, 230, 12, 3]\n",
    "\n",
    "plt.bar(hands,instances)\n",
    "plt.title('Occurance of Poker Hands in Test Set')\n",
    "plt.xlabel('Poker Hands')\n",
    "plt.ylabel('Occurances')\n",
    "plt.show()"
   ]
  },
  {
   "cell_type": "markdown",
   "id": "e1e77eb5-72a2-4926-a2dd-096d16196745",
   "metadata": {},
   "source": [
    "#### A bar chart of the test data shows us that the distribution of the training set and test set are similar. It appears that neither have a linear distribution."
   ]
  },
  {
   "cell_type": "markdown",
   "id": "0a5a7f3f-7ece-4dbd-8d1d-77bb740006f7",
   "metadata": {},
   "source": [
    "### Probability of each Poker Hand in each data set"
   ]
  },
  {
   "cell_type": "code",
   "execution_count": 588,
   "id": "7ff1bcc7-7a3c-4ebd-81c9-7480bc8f631e",
   "metadata": {},
   "outputs": [
    {
     "data": {
      "text/plain": [
       "0    0.499520\n",
       "1    0.423790\n",
       "2    0.048221\n",
       "3    0.020512\n",
       "4    0.003719\n",
       "5    0.002159\n",
       "6    0.001439\n",
       "7    0.000240\n",
       "8    0.000200\n",
       "9    0.000200\n",
       "Name: Poker Hand, dtype: float64"
      ]
     },
     "execution_count": 588,
     "metadata": {},
     "output_type": "execute_result"
    }
   ],
   "source": [
    "poker_train['Poker Hand'].value_counts() / len(poker_train)"
   ]
  },
  {
   "cell_type": "code",
   "execution_count": 589,
   "id": "80b1e255-65cc-40d2-b5dd-6d13a9bf39fb",
   "metadata": {},
   "outputs": [
    {
     "data": {
      "text/plain": [
       "0    0.501209\n",
       "1    0.422498\n",
       "2    0.047622\n",
       "3    0.021121\n",
       "4    0.003885\n",
       "5    0.001996\n",
       "6    0.001424\n",
       "7    0.000230\n",
       "8    0.000012\n",
       "9    0.000003\n",
       "Name: Poker Hand, dtype: float64"
      ]
     },
     "execution_count": 589,
     "metadata": {},
     "output_type": "execute_result"
    }
   ],
   "source": [
    "poker_test['Poker Hand'].value_counts() / len(poker_test)"
   ]
  },
  {
   "cell_type": "markdown",
   "id": "acb5216c-9579-4dc1-91ba-c8d77ee17d4e",
   "metadata": {},
   "source": [
    "#### Once again, this shows us that the training set has a good representation of the data besides the royal flush(9) and straight flush(8)."
   ]
  },
  {
   "cell_type": "code",
   "execution_count": 339,
   "id": "eaeea104-8f35-4153-86f5-8e75f192fac5",
   "metadata": {},
   "outputs": [
    {
     "data": {
      "text/plain": [
       "Poker Hand\n",
       "0    12493\n",
       "1    10599\n",
       "2     1206\n",
       "3      513\n",
       "4       93\n",
       "5       54\n",
       "6       36\n",
       "7        6\n",
       "8        5\n",
       "9        5\n",
       "dtype: int64"
      ]
     },
     "execution_count": 339,
     "metadata": {},
     "output_type": "execute_result"
    }
   ],
   "source": [
    "poker_train.groupby('Poker Hand').size()"
   ]
  },
  {
   "cell_type": "code",
   "execution_count": 756,
   "id": "61541663-da19-424d-8f11-e827f89d6f23",
   "metadata": {},
   "outputs": [],
   "source": []
  },
  {
   "cell_type": "code",
   "execution_count": 767,
   "id": "66a88436-4f59-40e5-a744-d2191edd4e3a",
   "metadata": {},
   "outputs": [],
   "source": [
    "X_train = (poker_train.iloc[:,:-1])\n",
    "y_train = poker_train['Poker Hand']\n",
    "\n",
    "X_test = poker_test.iloc[:,:-1]\n",
    "y_test = poker_test['Poker Hand']"
   ]
  },
  {
   "cell_type": "code",
   "execution_count": 768,
   "id": "05ad4c7d-c3dd-43c3-b40c-fc1cc8e14558",
   "metadata": {},
   "outputs": [],
   "source": [
    "###TREE"
   ]
  },
  {
   "cell_type": "code",
   "execution_count": 781,
   "id": "8896605c-26ca-4d60-8bc8-ebc5c76f904e",
   "metadata": {},
   "outputs": [
    {
     "name": "stdout",
     "output_type": "stream",
     "text": [
      "              precision    recall  f1-score   support\n",
      "\n",
      "           0       0.62      0.57      0.59    544727\n",
      "           1       0.49      0.47      0.48    437916\n",
      "           2       0.04      0.15      0.06     11233\n",
      "           3       0.03      0.13      0.05      4493\n",
      "           4       0.01      0.06      0.01       490\n",
      "           5       0.18      0.73      0.29       487\n",
      "           6       0.01      0.03      0.01       440\n",
      "           7       0.00      0.00      0.00        39\n",
      "           8       0.00      0.00      0.00        91\n",
      "           9       0.00      0.00      0.00        84\n",
      "\n",
      "    accuracy                           0.52   1000000\n",
      "   macro avg       0.14      0.21      0.15   1000000\n",
      "weighted avg       0.55      0.52      0.53   1000000\n",
      "\n"
     ]
    }
   ],
   "source": [
    "clf = tree.DecisionTreeClassifier(criterion='gini',max_depth=11)\n",
    "clf = clf.fit(X_train, y_train)\n",
    "y_pred = clf.predict(X_test)\n",
    "print(classification_report(y_pred,y_test))"
   ]
  },
  {
   "cell_type": "code",
   "execution_count": null,
   "id": "aa20dc31-b559-469a-8b78-43de74ca0aca",
   "metadata": {},
   "outputs": [],
   "source": [
    "plot_cm(y_pred, y_test)"
   ]
  },
  {
   "cell_type": "code",
   "execution_count": 786,
   "id": "3adf040e-eb03-4215-8bd2-45ccb7ee9ad1",
   "metadata": {},
   "outputs": [
    {
     "name": "stdout",
     "output_type": "stream",
     "text": [
      "              precision    recall  f1-score   support\n",
      "\n",
      "           0       0.68      0.60      0.64    562937\n",
      "           1       0.50      0.51      0.50    416877\n",
      "           2       0.04      0.14      0.06     13324\n",
      "           3       0.05      0.19      0.08      5177\n",
      "           4       0.01      0.06      0.02       688\n",
      "           5       0.02      0.05      0.03       690\n",
      "           6       0.01      0.06      0.01       168\n",
      "           7       0.00      0.00      0.00        36\n",
      "           8       0.00      0.00      0.00        60\n",
      "           9       0.00      0.00      0.00        43\n",
      "\n",
      "    accuracy                           0.55   1000000\n",
      "   macro avg       0.13      0.16      0.13   1000000\n",
      "weighted avg       0.59      0.55      0.57   1000000\n",
      "\n"
     ]
    }
   ],
   "source": [
    "clf = tree.DecisionTreeClassifier(criterion='entropy',max_depth=11)\n",
    "clf = clf.fit(X_train, y_train)\n",
    "y_pred = clf.predict(X_test)\n",
    "print(classification_report(y_pred,y_test))"
   ]
  },
  {
   "cell_type": "code",
   "execution_count": 770,
   "id": "210f0856-0f68-4fa2-b460-1e14e171c75b",
   "metadata": {},
   "outputs": [
    {
     "data": {
      "image/png": "[encoded data removed]",
      "text/plain": [
       "<Figure size 360x360 with 2 Axes>"
      ]
     },
     "metadata": {
      "needs_background": "light"
     },
     "output_type": "display_data"
    }
   ],
   "source": [
    "plot_cm(y_pred, y_test)"
   ]
  },
  {
   "cell_type": "code",
   "execution_count": 765,
   "id": "087e444b-0689-4943-923c-692906dac1d0",
   "metadata": {},
   "outputs": [
    {
     "data": {
      "image/png": "[encoded data removed]",
      "text/plain": [
       "<Figure size 360x360 with 2 Axes>"
      ]
     },
     "metadata": {
      "needs_background": "light"
     },
     "output_type": "display_data"
    }
   ],
   "source": []
  },
  {
   "cell_type": "code",
   "execution_count": 766,
   "id": "0c843d44-bb1a-44d3-a4c4-1960dd71e23c",
   "metadata": {},
   "outputs": [
    {
     "name": "stdout",
     "output_type": "stream",
     "text": [
      "              precision    recall  f1-score   support\n",
      "\n",
      "           0       0.59      0.61      0.60    490369\n",
      "           1       0.48      0.48      0.48    417189\n",
      "           2       0.14      0.12      0.13     56224\n",
      "           3       0.11      0.09      0.10     25571\n",
      "           4       0.07      0.05      0.06      5152\n",
      "           5       0.03      0.02      0.03      3015\n",
      "           6       0.01      0.01      0.01      1876\n",
      "           7       0.00      0.00      0.00       203\n",
      "           8       0.00      0.00      0.00       204\n",
      "           9       0.00      0.00      0.00       197\n",
      "\n",
      "    accuracy                           0.51   1000000\n",
      "   macro avg       0.14      0.14      0.14   1000000\n",
      "weighted avg       0.50      0.51      0.51   1000000\n",
      "\n"
     ]
    }
   ],
   "source": [
    "print(classification_report(y_pred,y_test))"
   ]
  },
  {
   "cell_type": "code",
   "execution_count": 500,
   "id": "d39b14ad-74e7-4b52-a7bd-f056c9ca755a",
   "metadata": {},
   "outputs": [
    {
     "name": "stdout",
     "output_type": "stream",
     "text": [
      "Accuracy score  0.559757\n",
      "Accuracy score  0.559757\n"
     ]
    }
   ],
   "source": [
    "print('Accuracy score ', accuracy_score(y_test,y_pred))\n",
    "\n",
    "set(y_test) - set(y_pred)"
   ]
  },
  {
   "cell_type": "code",
   "execution_count": null,
   "id": "90df978a-e0c6-44b4-add4-666b5be56138",
   "metadata": {},
   "outputs": [],
   "source": []
  },
  {
   "cell_type": "code",
   "execution_count": null,
   "id": "53944c6f-3c5f-477b-b3c6-c617985f2baa",
   "metadata": {},
   "outputs": [],
   "source": [
    "# This One"
   ]
  },
  {
   "cell_type": "code",
   "execution_count": null,
   "id": "4638549a-bd4c-44bb-8b28-6e27bf79f4fb",
   "metadata": {},
   "outputs": [],
   "source": [
    "clf = RandomForestClassifier(criterion='entropy')\n",
    "clf.fit(X_train,np.ravel(y_train))\n",
    "y_pred = clf.predict(X_test)\n",
    "print(classification_report(y_pred,y_test))"
   ]
  },
  {
   "cell_type": "code",
   "execution_count": 750,
   "id": "addc3fb1-eecf-4469-9a30-e3debb2eeb4d",
   "metadata": {},
   "outputs": [
    {
     "name": "stdout",
     "output_type": "stream",
     "text": [
      "Accuracy score  0.621263\n"
     ]
    }
   ],
   "source": [
    "model = RandomForestClassifier(n_estimators = 800,criterion = 'entropy',bootstrap=True)\n",
    "model.fit(X_train,y_train)\n",
    "predictions = model.predict(X_test)\n",
    "print('Accuracy score ',accuracy_score(y_test,predictions))\n",
    "print(classification_report(predictions,y_test))"
   ]
  },
  {
   "cell_type": "code",
   "execution_count": null,
   "id": "7640a054-93c8-4b4e-a421-7218e9811f94",
   "metadata": {},
   "outputs": [],
   "source": []
  },
  {
   "cell_type": "code",
   "execution_count": 426,
   "id": "73dc984b-ea2b-47c4-8909-be13f092d9c6",
   "metadata": {},
   "outputs": [
    {
     "name": "stdout",
     "output_type": "stream",
     "text": [
      "Accuracy score  0.478944\n"
     ]
    }
   ],
   "source": []
  },
  {
   "cell_type": "code",
   "execution_count": 755,
   "id": "71019a57-c5ae-40fb-ab54-8349ca27f649",
   "metadata": {},
   "outputs": [
    {
     "name": "stdout",
     "output_type": "stream",
     "text": [
      "Accuracy score  0.625293\n"
     ]
    }
   ],
   "source": [
    "model = RandomForestClassifier(n_estimators = 800,criterion='gini',bootstrap=True)\n",
    "model.fit(X_train,y_train)\n",
    "predictions = model.predict(X_test)\n",
    "print('Accuracy score ',accuracy_score(y_test,predictions))\n",
    "print(classification_report(predictions,y_test))"
   ]
  },
  {
   "cell_type": "code",
   "execution_count": 760,
   "id": "cd43765f-72f5-4f6b-b782-4f84101e6a6c",
   "metadata": {},
   "outputs": [
    {
     "data": {
      "text/plain": [
       "RandomForestClassifier(criterion='entropy')"
      ]
     },
     "execution_count": 760,
     "metadata": {},
     "output_type": "execute_result"
    }
   ],
   "source": [
    "clf = RandomForestClassifier(criterion='entropy')\n",
    "clf.fit(X_train,np.ravel(y_train))"
   ]
  },
  {
   "cell_type": "code",
   "execution_count": 761,
   "id": "a7ca2605-9b04-4338-a0e5-3c6b28ef5de2",
   "metadata": {},
   "outputs": [
    {
     "name": "stderr",
     "output_type": "stream",
     "text": [
      "/Users/bretttully/opt/anaconda3/lib/python3.8/site-packages/sklearn/metrics/_classification.py:1245: UndefinedMetricWarning: Recall and F-score are ill-defined and being set to 0.0 in labels with no true samples. Use `zero_division` parameter to control this behavior.\n",
      "  _warn_prf(average, modifier, msg_start, len(result))\n",
      "/Users/bretttully/opt/anaconda3/lib/python3.8/site-packages/sklearn/metrics/_classification.py:1245: UndefinedMetricWarning: Recall and F-score are ill-defined and being set to 0.0 in labels with no true samples. Use `zero_division` parameter to control this behavior.\n",
      "  _warn_prf(average, modifier, msg_start, len(result))\n"
     ]
    },
    {
     "name": "stdout",
     "output_type": "stream",
     "text": [
      "              precision    recall  f1-score   support\n",
      "\n",
      "           0       0.81      0.64      0.71    635812\n",
      "           1       0.50      0.58      0.53    363340\n",
      "           2       0.01      0.41      0.01       619\n",
      "           3       0.00      0.51      0.01       190\n",
      "           4       0.00      0.25      0.00        20\n",
      "           5       0.01      0.94      0.02        18\n",
      "           6       0.00      0.00      0.00         1\n",
      "           7       0.00      0.00      0.00         0\n",
      "           8       0.00      0.00      0.00         0\n",
      "           9       0.00      0.00      0.00         0\n",
      "\n",
      "    accuracy                           0.62   1000000\n",
      "   macro avg       0.13      0.33      0.13   1000000\n",
      "weighted avg       0.69      0.62      0.65   1000000\n",
      "\n"
     ]
    },
    {
     "name": "stderr",
     "output_type": "stream",
     "text": [
      "/Users/bretttully/opt/anaconda3/lib/python3.8/site-packages/sklearn/metrics/_classification.py:1245: UndefinedMetricWarning: Recall and F-score are ill-defined and being set to 0.0 in labels with no true samples. Use `zero_division` parameter to control this behavior.\n",
      "  _warn_prf(average, modifier, msg_start, len(result))\n"
     ]
    }
   ],
   "source": [
    "y_pred = clf.predict(X_test)\n",
    "print(classification_report(y_pred,y_test))"
   ]
  },
  {
   "cell_type": "code",
   "execution_count": null,
   "id": "6aa815a2-0dae-4d29-860c-2723afb299e1",
   "metadata": {},
   "outputs": [],
   "source": []
  },
  {
   "cell_type": "code",
   "execution_count": 752,
   "id": "82739a36-cf3a-4ba1-8624-1acda2a33dc4",
   "metadata": {},
   "outputs": [
    {
     "name": "stderr",
     "output_type": "stream",
     "text": [
      "/Users/bretttully/opt/anaconda3/lib/python3.8/site-packages/sklearn/metrics/_classification.py:1245: UndefinedMetricWarning: Recall and F-score are ill-defined and being set to 0.0 in labels with no true samples. Use `zero_division` parameter to control this behavior.\n",
      "  _warn_prf(average, modifier, msg_start, len(result))\n",
      "/Users/bretttully/opt/anaconda3/lib/python3.8/site-packages/sklearn/metrics/_classification.py:1245: UndefinedMetricWarning: Recall and F-score are ill-defined and being set to 0.0 in labels with no true samples. Use `zero_division` parameter to control this behavior.\n",
      "  _warn_prf(average, modifier, msg_start, len(result))\n"
     ]
    },
    {
     "name": "stdout",
     "output_type": "stream",
     "text": [
      "              precision    recall  f1-score   support\n",
      "\n",
      "           0       1.00      0.50      0.67    998991\n",
      "           1       0.00      0.47      0.00      1009\n",
      "           2       0.00      0.00      0.00         0\n",
      "           3       0.00      0.00      0.00         0\n",
      "           4       0.00      0.00      0.00         0\n",
      "           5       0.00      0.00      0.00         0\n",
      "           6       0.00      0.00      0.00         0\n",
      "           7       0.00      0.00      0.00         0\n",
      "           8       0.00      0.00      0.00         0\n",
      "           9       0.00      0.00      0.00         0\n",
      "\n",
      "    accuracy                           0.50   1000000\n",
      "   macro avg       0.10      0.10      0.07   1000000\n",
      "weighted avg       1.00      0.50      0.67   1000000\n",
      "\n"
     ]
    },
    {
     "name": "stderr",
     "output_type": "stream",
     "text": [
      "/Users/bretttully/opt/anaconda3/lib/python3.8/site-packages/sklearn/metrics/_classification.py:1245: UndefinedMetricWarning: Recall and F-score are ill-defined and being set to 0.0 in labels with no true samples. Use `zero_division` parameter to control this behavior.\n",
      "  _warn_prf(average, modifier, msg_start, len(result))\n"
     ]
    }
   ],
   "source": []
  },
  {
   "cell_type": "code",
   "execution_count": null,
   "id": "dfced76f-8fa4-4777-ac32-0d101af44d18",
   "metadata": {},
   "outputs": [],
   "source": [
    "poker_test['Poker Hand'] = poker_test['Poker Hand'].astype('category')\n",
    "poker_train['Poker Hand'] = poker_test['Poker Hand'].astype('category')\n",
    "poker_test.dtypes"
   ]
  },
  {
   "cell_type": "code",
   "execution_count": 632,
   "id": "d763091e-8d0d-4020-9f4c-ef5b35dcb232",
   "metadata": {},
   "outputs": [
    {
     "data": {
      "text/html": [
       "<div>\n",
       "<style scoped>\n",
       "    .dataframe tbody tr th:only-of-type {\n",
       "        vertical-align: middle;\n",
       "    }\n",
       "\n",
       "    .dataframe tbody tr th {\n",
       "        vertical-align: top;\n",
       "    }\n",
       "\n",
       "    .dataframe thead th {\n",
       "        text-align: right;\n",
       "    }\n",
       "</style>\n",
       "<table border=\"1\" class=\"dataframe\">\n",
       "  <thead>\n",
       "    <tr style=\"text-align: right;\">\n",
       "      <th></th>\n",
       "      <th>Suit of Card #1</th>\n",
       "      <th>Rank of Card #1</th>\n",
       "      <th>Suit of Card #2</th>\n",
       "      <th>Rank of Card #2</th>\n",
       "      <th>Suit of Card #3</th>\n",
       "      <th>Rank of Card #3</th>\n",
       "      <th>Suit of Card #4</th>\n",
       "      <th>Rank of Card #4</th>\n",
       "      <th>Suit of Card #5</th>\n",
       "      <th>Rank of Card #5</th>\n",
       "      <th>Poker Hand</th>\n",
       "    </tr>\n",
       "  </thead>\n",
       "  <tbody>\n",
       "    <tr>\n",
       "      <th>0</th>\n",
       "      <td>1</td>\n",
       "      <td>10</td>\n",
       "      <td>1</td>\n",
       "      <td>11</td>\n",
       "      <td>1</td>\n",
       "      <td>13</td>\n",
       "      <td>1</td>\n",
       "      <td>12</td>\n",
       "      <td>1</td>\n",
       "      <td>1</td>\n",
       "      <td>Royal flush</td>\n",
       "    </tr>\n",
       "    <tr>\n",
       "      <th>1</th>\n",
       "      <td>2</td>\n",
       "      <td>11</td>\n",
       "      <td>2</td>\n",
       "      <td>13</td>\n",
       "      <td>2</td>\n",
       "      <td>10</td>\n",
       "      <td>2</td>\n",
       "      <td>12</td>\n",
       "      <td>2</td>\n",
       "      <td>1</td>\n",
       "      <td>Royal flush</td>\n",
       "    </tr>\n",
       "    <tr>\n",
       "      <th>2</th>\n",
       "      <td>3</td>\n",
       "      <td>12</td>\n",
       "      <td>3</td>\n",
       "      <td>11</td>\n",
       "      <td>3</td>\n",
       "      <td>13</td>\n",
       "      <td>3</td>\n",
       "      <td>10</td>\n",
       "      <td>3</td>\n",
       "      <td>1</td>\n",
       "      <td>Royal flush</td>\n",
       "    </tr>\n",
       "    <tr>\n",
       "      <th>3</th>\n",
       "      <td>4</td>\n",
       "      <td>10</td>\n",
       "      <td>4</td>\n",
       "      <td>11</td>\n",
       "      <td>4</td>\n",
       "      <td>1</td>\n",
       "      <td>4</td>\n",
       "      <td>13</td>\n",
       "      <td>4</td>\n",
       "      <td>12</td>\n",
       "      <td>Royal flush</td>\n",
       "    </tr>\n",
       "    <tr>\n",
       "      <th>4</th>\n",
       "      <td>4</td>\n",
       "      <td>1</td>\n",
       "      <td>4</td>\n",
       "      <td>13</td>\n",
       "      <td>4</td>\n",
       "      <td>12</td>\n",
       "      <td>4</td>\n",
       "      <td>11</td>\n",
       "      <td>4</td>\n",
       "      <td>10</td>\n",
       "      <td>Royal flush</td>\n",
       "    </tr>\n",
       "    <tr>\n",
       "      <th>...</th>\n",
       "      <td>...</td>\n",
       "      <td>...</td>\n",
       "      <td>...</td>\n",
       "      <td>...</td>\n",
       "      <td>...</td>\n",
       "      <td>...</td>\n",
       "      <td>...</td>\n",
       "      <td>...</td>\n",
       "      <td>...</td>\n",
       "      <td>...</td>\n",
       "      <td>...</td>\n",
       "    </tr>\n",
       "    <tr>\n",
       "      <th>25005</th>\n",
       "      <td>3</td>\n",
       "      <td>9</td>\n",
       "      <td>2</td>\n",
       "      <td>6</td>\n",
       "      <td>4</td>\n",
       "      <td>11</td>\n",
       "      <td>4</td>\n",
       "      <td>12</td>\n",
       "      <td>2</td>\n",
       "      <td>4</td>\n",
       "      <td>0</td>\n",
       "    </tr>\n",
       "    <tr>\n",
       "      <th>25006</th>\n",
       "      <td>4</td>\n",
       "      <td>1</td>\n",
       "      <td>4</td>\n",
       "      <td>10</td>\n",
       "      <td>3</td>\n",
       "      <td>13</td>\n",
       "      <td>3</td>\n",
       "      <td>4</td>\n",
       "      <td>1</td>\n",
       "      <td>10</td>\n",
       "      <td>One pair</td>\n",
       "    </tr>\n",
       "    <tr>\n",
       "      <th>25007</th>\n",
       "      <td>2</td>\n",
       "      <td>1</td>\n",
       "      <td>2</td>\n",
       "      <td>10</td>\n",
       "      <td>4</td>\n",
       "      <td>4</td>\n",
       "      <td>4</td>\n",
       "      <td>1</td>\n",
       "      <td>4</td>\n",
       "      <td>13</td>\n",
       "      <td>One pair</td>\n",
       "    </tr>\n",
       "    <tr>\n",
       "      <th>25008</th>\n",
       "      <td>2</td>\n",
       "      <td>12</td>\n",
       "      <td>4</td>\n",
       "      <td>3</td>\n",
       "      <td>1</td>\n",
       "      <td>10</td>\n",
       "      <td>1</td>\n",
       "      <td>12</td>\n",
       "      <td>4</td>\n",
       "      <td>9</td>\n",
       "      <td>One pair</td>\n",
       "    </tr>\n",
       "    <tr>\n",
       "      <th>25009</th>\n",
       "      <td>1</td>\n",
       "      <td>7</td>\n",
       "      <td>3</td>\n",
       "      <td>11</td>\n",
       "      <td>3</td>\n",
       "      <td>3</td>\n",
       "      <td>4</td>\n",
       "      <td>8</td>\n",
       "      <td>3</td>\n",
       "      <td>7</td>\n",
       "      <td>One pair</td>\n",
       "    </tr>\n",
       "  </tbody>\n",
       "</table>\n",
       "<p>25010 rows × 11 columns</p>\n",
       "</div>"
      ],
      "text/plain": [
       "       Suit of Card #1  Rank of Card #1  Suit of Card #2  Rank of Card #2  \\\n",
       "0                    1               10                1               11   \n",
       "1                    2               11                2               13   \n",
       "2                    3               12                3               11   \n",
       "3                    4               10                4               11   \n",
       "4                    4                1                4               13   \n",
       "...                ...              ...              ...              ...   \n",
       "25005                3                9                2                6   \n",
       "25006                4                1                4               10   \n",
       "25007                2                1                2               10   \n",
       "25008                2               12                4                3   \n",
       "25009                1                7                3               11   \n",
       "\n",
       "       Suit of Card #3  Rank of Card #3  Suit of Card #4  Rank of Card #4  \\\n",
       "0                    1               13                1               12   \n",
       "1                    2               10                2               12   \n",
       "2                    3               13                3               10   \n",
       "3                    4                1                4               13   \n",
       "4                    4               12                4               11   \n",
       "...                ...              ...              ...              ...   \n",
       "25005                4               11                4               12   \n",
       "25006                3               13                3                4   \n",
       "25007                4                4                4                1   \n",
       "25008                1               10                1               12   \n",
       "25009                3                3                4                8   \n",
       "\n",
       "       Suit of Card #5  Rank of Card #5   Poker Hand  \n",
       "0                    1                1  Royal flush  \n",
       "1                    2                1  Royal flush  \n",
       "2                    3                1  Royal flush  \n",
       "3                    4               12  Royal flush  \n",
       "4                    4               10  Royal flush  \n",
       "...                ...              ...          ...  \n",
       "25005                2                4            0  \n",
       "25006                1               10     One pair  \n",
       "25007                4               13     One pair  \n",
       "25008                4                9     One pair  \n",
       "25009                3                7     One pair  \n",
       "\n",
       "[25010 rows x 11 columns]"
      ]
     },
     "execution_count": 632,
     "metadata": {},
     "output_type": "execute_result"
    }
   ],
   "source": [
    "poker_train['Poker Hand']=poker_train['Poker Hand'].replace({0:'Nothing in Hand', \n",
    "1: 'One pair',\n",
    "2: 'Two pairs',\n",
    "3: 'Three of a kind',\n",
    "4: 'Straight',\n",
    "5: 'Flush',\n",
    "6: 'Full house',\n",
    "7: 'Four of a kind',\n",
    "8: 'Straight flush',\n",
    "9: 'Royal flush'})\n",
    "\n",
    "poker_test['Poker Hand']=poker_test['Poker Hand'].replace({0:'Nothing in Hand', \n",
    "1: 'One pair',\n",
    "2: 'Two pairs',\n",
    "3: 'Three of a kind',\n",
    "4: 'Straight',\n",
    "5: 'Flush',\n",
    "6: 'Full house',\n",
    "7: 'Four of a kind',\n",
    "8: 'Straight flush',\n",
    "9: 'Royal flush'})"
   ]
  },
  {
   "cell_type": "code",
   "execution_count": null,
   "id": "d6d250e5-3c18-44c8-a48c-76a549674734",
   "metadata": {},
   "outputs": [],
   "source": [
    "poker_train=poker_train.replace({'Suit of Card #1':{1:'Hearts',2:'Spades',3:'Diamonds',4:'Clubs'},\n",
    "    'Suit of Card #2':{1:'Hearts',2:'Spades',3:'Diamonds',4:'Clubs'},\n",
    "    'Suit of Card #3':{1:'Hearts',2:'Spades',3:'Diamonds',4:'Clubs'},\n",
    "    'Suit of Card #4':{1:'Hearts',2:'Spades',3:'Diamonds',4:'Clubs'},\n",
    "    'Suit of Card #5':{1:'Hearts',2:'Spades',3:'Diamonds',4:'Clubs'},\n",
    "    'Rank of Card #1':{1:'Ace',11:'Jack',12:'Queen',13:'King'},\n",
    "    'Rank of Card #2':{1:'Ace',11:'Jack',12:'Queen',13:'King'},\n",
    "    'Rank of Card #3':{1:'Ace',11:'Jack',12:'Queen',13:'King'},\n",
    "    'Rank of Card #4':{1:'Ace',11:'Jack',12:'Queen',13:'King'},\n",
    "    'Rank of Card #5':{1:'Ace',11:'Jack',12:'Queen',13:'King'},\n",
    "    'Poker Hand':{0:'Nothing in Hand', \n",
    "1: 'One pair',\n",
    "2: 'Two pairs',\n",
    "3: 'Three of a kind',\n",
    "4: 'Straight',\n",
    "5: 'Flush',\n",
    "6: 'Full house',\n",
    "7: 'Four of a kind',\n",
    "8: 'Straight flush',\n",
    "9: 'Royal flush'}})\n",
    "\n",
    "\n",
    "\n",
    "\n",
    "poker_test = poker_test.replace({'Suit of Card #1':{1:'Hearts',2:'Spades',3:'Diamonds',4:'Clubs'},\n",
    "    'Suit of Card #2':{1:'Hearts',2:'Spades',3:'Diamonds',4:'Clubs'},\n",
    "    'Suit of Card #3':{1:'Hearts',2:'Spades',3:'Diamonds',4:'Clubs'},\n",
    "    'Suit of Card #4':{1:'Hearts',2:'Spades',3:'Diamonds',4:'Clubs'},\n",
    "    'Suit of Card #5':{1:'Hearts',2:'Spades',3:'Diamonds',4:'Clubs'},\n",
    "    'Rank of Card #1':{1:'Ace',11:'Jack',12:'Queen',13:'King'},\n",
    "    'Rank of Card #2':{1:'Ace',11:'Jack',12:'Queen',13:'King'},\n",
    "    'Rank of Card #3':{1:'Ace',11:'Jack',12:'Queen',13:'King'},\n",
    "    'Rank of Card #4':{1:'Ace',11:'Jack',12:'Queen',13:'King'},\n",
    "    'Rank of Card #5':{1:'Ace',11:'Jack',12:'Queen',13:'King'},\n",
    "    'Poker Hand':{0:'Nothing in Hand', \n",
    "1: 'One pair',\n",
    "2: 'Two pairs',\n",
    "3: 'Three of a kind',\n",
    "4: 'Straight',\n",
    "5: 'Flush',\n",
    "6: 'Full house',\n",
    "7: 'Four of a kind',\n",
    "8: 'Straight flush',\n",
    "9: 'Royal flush'}})\n",
    "\n",
    "X = poker_train.iloc[:,:-1]\n",
    "y = poker_train['Poker Hand']\n",
    "\n",
    "\n"
   ]
  }
 ],
 "metadata": {
  "kernelspec": {
   "display_name": "Python 3",
   "language": "python",
   "name": "python3"
  },
  "language_info": {
   "codemirror_mode": {
    "name": "ipython",
    "version": 3
   },
   "file_extension": ".py",
   "mimetype": "text/x-python",
   "name": "python",
   "nbconvert_exporter": "python",
   "pygments_lexer": "ipython3",
   "version": "3.8.8"
  }
 },
 "nbformat": 4,
 "nbformat_minor": 5
}
